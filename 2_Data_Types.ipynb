{
  "nbformat": 4,
  "nbformat_minor": 0,
  "metadata": {
    "colab": {
      "name": "2_Data_Types.ipynb",
      "provenance": [],
      "collapsed_sections": []
    },
    "kernelspec": {
      "display_name": "Python 3",
      "language": "python",
      "name": "python3"
    },
    "language_info": {
      "codemirror_mode": {
        "name": "ipython",
        "version": 3
      },
      "file_extension": ".py",
      "mimetype": "text/x-python",
      "name": "python",
      "nbconvert_exporter": "python",
      "pygments_lexer": "ipython3",
      "version": "3.7.6"
    }
  },
  "cells": [
    {
      "cell_type": "markdown",
      "metadata": {
        "id": "jAvAN1PiB8bc"
      },
      "source": [
        "# 1. BOOLEANS"
      ]
    },
    {
      "cell_type": "code",
      "metadata": {
        "colab": {
          "base_uri": "https://localhost:8080/"
        },
        "id": "nQxJN0ShB_Ae",
        "outputId": "aadceadc-f022-4e27-f1f8-1aa518c63d56"
      },
      "source": [
        "# Boolean values can be represented as one of two constant objects \"False\" and \"True\". \n",
        "# Booleans behave like integers 0 and 1.\n",
        "True"
      ],
      "execution_count": null,
      "outputs": [
        {
          "output_type": "execute_result",
          "data": {
            "text/plain": [
              "True"
            ]
          },
          "metadata": {
            "tags": []
          },
          "execution_count": 54
        }
      ]
    },
    {
      "cell_type": "code",
      "metadata": {
        "colab": {
          "base_uri": "https://localhost:8080/"
        },
        "id": "MWOLRKg-B_D6",
        "outputId": "da24f7f0-e462-4488-f8f8-558e9a85c402"
      },
      "source": [
        "False"
      ],
      "execution_count": null,
      "outputs": [
        {
          "output_type": "execute_result",
          "data": {
            "text/plain": [
              "False"
            ]
          },
          "metadata": {
            "tags": []
          },
          "execution_count": 55
        }
      ]
    },
    {
      "cell_type": "code",
      "metadata": {
        "colab": {
          "base_uri": "https://localhost:8080/"
        },
        "id": "FIIDiXGiTUq1",
        "outputId": "84f8bbc6-a64e-459d-9b55-07da93408a11"
      },
      "source": [
        "# Python has a function called \"type()\"\n",
        "# It takes in a value and prints out its data type\n",
        "# Let's check the data type of \"True\"\n",
        "\n",
        "type(True) "
      ],
      "execution_count": null,
      "outputs": [
        {
          "output_type": "execute_result",
          "data": {
            "text/plain": [
              "bool"
            ]
          },
          "metadata": {
            "tags": []
          },
          "execution_count": 56
        }
      ]
    },
    {
      "cell_type": "markdown",
      "metadata": {
        "id": "3rBzurfFafZ0"
      },
      "source": [
        "*Booleans come in handy when you're comparing two values*\n",
        "\n",
        "```Let's say Musa's farm has 100 goats and 200 sheep```"
      ]
    },
    {
      "cell_type": "code",
      "metadata": {
        "id": "oDfoK28ZB_SO"
      },
      "source": [
        "number_of_goats = 100\n",
        "number_of_sheep = 200\n",
        "# Variables names can't have spaces - so an underscore could be used to separate words in a variable"
      ],
      "execution_count": null,
      "outputs": []
    },
    {
      "cell_type": "markdown",
      "metadata": {
        "id": "Hp8udwlrbFkO"
      },
      "source": [
        "\n",
        "*Now you can ask python if the number of goats equals the number of sheep*\n"
      ]
    },
    {
      "cell_type": "code",
      "metadata": {
        "colab": {
          "base_uri": "https://localhost:8080/"
        },
        "id": "ip2o3rObbLcj",
        "outputId": "84457c92-a612-4500-969d-dc0e4349110c"
      },
      "source": [
        "print(number_of_goats == number_of_sheep)"
      ],
      "execution_count": null,
      "outputs": [
        {
          "output_type": "stream",
          "text": [
            "False\n"
          ],
          "name": "stdout"
        }
      ]
    },
    {
      "cell_type": "code",
      "metadata": {
        "id": "kF5fM4lsiUH2"
      },
      "source": [
        "# This means that the number of sheep isn't equal to the number of goat\n",
        "# The \"!=\" is the \"isn't equal to\" operator\n",
        "print(number_of_goats != number_of_sheep)"
      ],
      "execution_count": null,
      "outputs": []
    },
    {
      "cell_type": "markdown",
      "metadata": {
        "id": "LZNbbcd7rHLi"
      },
      "source": [
        "![Indexing in Python.png](https://encrypted-tbn0.gstatic.com/images?q=tbn:ANd9GcQsM2_EwqWYX8GGHvcEl1NIFiYay5wSuJjnYA&usqp=CAU)"
      ]
    },
    {
      "cell_type": "markdown",
      "metadata": {
        "id": "LgmjV-UGrWTI"
      },
      "source": [
        "Image: pylenin.com"
      ]
    },
    {
      "cell_type": "markdown",
      "metadata": {
        "id": "1nsqyqjFbXjb"
      },
      "source": [
        "*Take a look at the code above*\n",
        "\n",
        "```Do you notice the double equal to sign, \"==\" ?```"
      ]
    },
    {
      "cell_type": "markdown",
      "metadata": {
        "id": "nAbdaT9xcFcn"
      },
      "source": [
        "### The \"=\" vs. \"==\" : what's the difference?"
      ]
    },
    {
      "cell_type": "code",
      "metadata": {
        "colab": {
          "base_uri": "https://localhost:8080/"
        },
        "id": "Ok37oieBb9pX",
        "outputId": "34a9d2c6-ded2-4a57-c701-5f7a58f601bc"
      },
      "source": [
        "# If I want to tell Python that the number of covid cases in Ghana is say 253\n",
        "number_of_cases = 253\n",
        "\n",
        "# But if I want to ask Python, is the number of covid cases in Ghana equal to 253\n",
        "number_of_cases==253"
      ],
      "execution_count": null,
      "outputs": [
        {
          "output_type": "execute_result",
          "data": {
            "text/plain": [
              "True"
            ]
          },
          "metadata": {
            "tags": []
          },
          "execution_count": 59
        }
      ]
    },
    {
      "cell_type": "code",
      "metadata": {
        "colab": {
          "base_uri": "https://localhost:8080/"
        },
        "id": "8IPo5iAS67N0",
        "outputId": "49230eef-9661-4648-e7f8-cec2fc2a902d"
      },
      "source": [
        "# Let's play around with it \n",
        "# What will this print out?\n",
        "print(3==2)"
      ],
      "execution_count": null,
      "outputs": [
        {
          "output_type": "stream",
          "text": [
            "False\n"
          ],
          "name": "stdout"
        }
      ]
    },
    {
      "cell_type": "markdown",
      "metadata": {
        "id": "zK3GTZaCFwNt"
      },
      "source": [
        "\n",
        "**MINI CHALLENGE #1:** \n",
        "- **What will this code print out?**\n",
        "```\n",
        "number_of_pens = 20\n",
        "number_of_bicycles = 30\n",
        "print(number_of_pens < number_of_bicycles)\n",
        "print(number_of_pens == number_of_bicycles)\n",
        "```"
      ]
    },
    {
      "cell_type": "code",
      "metadata": {
        "id": "Fk7waP-xUtan"
      },
      "source": [
        "# Enter code here\n"
      ],
      "execution_count": null,
      "outputs": []
    },
    {
      "cell_type": "markdown",
      "metadata": {
        "id": "IBLUQaUlRy6a"
      },
      "source": [
        "  \n",
        "   Awesome! Let's move on to the next data type"
      ]
    },
    {
      "cell_type": "markdown",
      "metadata": {
        "id": "_5r-dUNX7nfy"
      },
      "source": [
        "# 2. LIST\n",
        "Lists are collections that :\n",
        "* Have a specified order of arrangement\n",
        "* Could have similar members"
      ]
    },
    {
      "cell_type": "code",
      "metadata": {
        "colab": {
          "base_uri": "https://localhost:8080/"
        },
        "id": "F27HZd8a60zD",
        "outputId": "0a7ef702-ed9d-4cd5-9cfc-0bf0a9e5d870"
      },
      "source": [
        "# A list is placed in square brackets, \"[...]\" and each value is separated by a comma \",\"\n",
        "my_list = [1, 2, 3]\n",
        "print(my_list)"
      ],
      "execution_count": null,
      "outputs": [
        {
          "output_type": "stream",
          "text": [
            "[1, 2, 3]\n"
          ],
          "name": "stdout"
        }
      ]
    },
    {
      "cell_type": "code",
      "metadata": {
        "colab": {
          "base_uri": "https://localhost:8080/"
        },
        "id": "62VMSUQWSsPq",
        "outputId": "7e630696-84fe-4cf3-8ab1-e633a7f70cc9"
      },
      "source": [
        "# Lists allow duplicate/similar members\n",
        "# Let's say you want to store the ages of 5 students in a class\n",
        "\n",
        "age_list = [6, 7, 5, 6, 5]\n",
        "print(age_list) \n",
        "\n",
        "# Note that it contains members with similar values"
      ],
      "execution_count": null,
      "outputs": [
        {
          "output_type": "stream",
          "text": [
            "[6, 7, 5, 6, 5]\n"
          ],
          "name": "stdout"
        }
      ]
    },
    {
      "cell_type": "code",
      "metadata": {
        "colab": {
          "base_uri": "https://localhost:8080/"
        },
        "id": "AeHE6akU70RX",
        "outputId": "af18d29e-591b-445f-df36-39de10d15084"
      },
      "source": [
        "# Obtain the datatype\n",
        "# Remember the \"type()\" function\n",
        "type(my_list)"
      ],
      "execution_count": null,
      "outputs": [
        {
          "output_type": "execute_result",
          "data": {
            "text/plain": [
              "list"
            ]
          },
          "metadata": {
            "tags": []
          },
          "execution_count": 64
        }
      ]
    },
    {
      "cell_type": "markdown",
      "metadata": {
        "id": "0_3LkxsMYfg3"
      },
      "source": [
        "### Indexing in Python Lists\n"
      ]
    },
    {
      "cell_type": "code",
      "metadata": {
        "colab": {
          "base_uri": "https://localhost:8080/"
        },
        "id": "xlMqB0paY_JJ",
        "outputId": "1f2f3056-08c1-4919-b1f6-c119cba002e3"
      },
      "source": [
        "# Let's define a list to contain the week days\n",
        "week_day_list = [\"MON\", \"TUE\", \"WED\", \"THU\", \"FRI\"]\n",
        "print(week_day_list)"
      ],
      "execution_count": null,
      "outputs": [
        {
          "output_type": "stream",
          "text": [
            "['MON', 'TUE', 'WED', 'THU', 'FRI']\n"
          ],
          "name": "stdout"
        }
      ]
    },
    {
      "cell_type": "markdown",
      "metadata": {
        "id": "ZxGeNPxsZT3K"
      },
      "source": [
        "\n",
        "Now let's try accessing the first weekday"
      ]
    },
    {
      "cell_type": "markdown",
      "metadata": {
        "id": "yBd6vfo9YQy2"
      },
      "source": [
        "![Indexing in Python.png](data:image/png;base64,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)\n",
        "\n",
        "Image: alphacodingskills.com"
      ]
    },
    {
      "cell_type": "code",
      "metadata": {
        "colab": {
          "base_uri": "https://localhost:8080/",
          "height": 36
        },
        "id": "_NRjpr-bYOSB",
        "outputId": "038dd8a2-78fa-4e58-a84d-fd093bbaf59f"
      },
      "source": [
        "# To get the first week day, use an index of 0\n",
        "week_day_list[0]"
      ],
      "execution_count": null,
      "outputs": [
        {
          "output_type": "execute_result",
          "data": {
            "application/vnd.google.colaboratory.intrinsic+json": {
              "type": "string"
            },
            "text/plain": [
              "'MON'"
            ]
          },
          "metadata": {
            "tags": []
          },
          "execution_count": 66
        }
      ]
    },
    {
      "cell_type": "code",
      "metadata": {
        "colab": {
          "base_uri": "https://localhost:8080/",
          "height": 36
        },
        "id": "0BxUeaMfZl8o",
        "outputId": "d24b388e-a6ef-4395-e0d9-774aea6f8267"
      },
      "source": [
        "# To access last day, you can use the backward indexing\n",
        "week_day_list[-1]"
      ],
      "execution_count": null,
      "outputs": [
        {
          "output_type": "execute_result",
          "data": {
            "application/vnd.google.colaboratory.intrinsic+json": {
              "type": "string"
            },
            "text/plain": [
              "'FRI'"
            ]
          },
          "metadata": {
            "tags": []
          },
          "execution_count": 67
        }
      ]
    },
    {
      "cell_type": "code",
      "metadata": {
        "id": "PWolE4TTetXK"
      },
      "source": [
        "# Try accessing Tuesday\n",
        "# Enter code here\n"
      ],
      "execution_count": null,
      "outputs": []
    },
    {
      "cell_type": "markdown",
      "metadata": {
        "id": "byHrteR_fJV6"
      },
      "source": [
        "### Mixed and Nested Lists\n",
        "You can also have a list with **mixed** datatypes (for example you can have strings, floats and integers in one list)\n"
      ]
    },
    {
      "cell_type": "markdown",
      "metadata": {
        "id": "nedE3kF3fZXL"
      },
      "source": [
        "*Say, you want to store some info about your best friend*\n",
        "\n",
        "```You know their favorite color is \"orange\", their favorite number is 5 and their height (m) is 1.80```"
      ]
    },
    {
      "cell_type": "code",
      "metadata": {
        "colab": {
          "base_uri": "https://localhost:8080/"
        },
        "id": "qaiXmQs570Vv",
        "outputId": "b694a981-8508-4467-e3c5-d901b67c2fff"
      },
      "source": [
        "bestie_list = [\"orange\", 5, 1.80]\n",
        "print(bestie_list)"
      ],
      "execution_count": null,
      "outputs": [
        {
          "output_type": "stream",
          "text": [
            "['orange', 5, 1.8]\n"
          ],
          "name": "stdout"
        }
      ]
    },
    {
      "cell_type": "code",
      "metadata": {
        "colab": {
          "base_uri": "https://localhost:8080/"
        },
        "id": "RAxILbRjiMAI",
        "outputId": "064008dc-117b-4c86-de6d-84291db89f5d"
      },
      "source": [
        "# You can access the height using indexing\n",
        "bestie_list[2]"
      ],
      "execution_count": null,
      "outputs": [
        {
          "output_type": "execute_result",
          "data": {
            "text/plain": [
              "1.8"
            ]
          },
          "metadata": {
            "tags": []
          },
          "execution_count": 70
        }
      ]
    },
    {
      "cell_type": "code",
      "metadata": {
        "id": "vskD9FYMiV2Y"
      },
      "source": [
        "# Try accessing the favorite color\n",
        "# Enter code here\n"
      ],
      "execution_count": null,
      "outputs": []
    },
    {
      "cell_type": "markdown",
      "metadata": {
        "id": "DZQvg3nAgTC1"
      },
      "source": [
        "\n",
        "\n",
        "You can also have a list inside another list (**nested** list) \n",
        "\n",
        "*Let's say you also want to store info about your bestie's three siblings:*     \n",
        "```Their favorite colors are \"blue\", \"pink\" and \"yogurt pink\"```      \n",
        "```Their favorite numbers are 3, 9 and 4```      \n",
        "```Their heights are 1.61, 1.82 and 1.75 respectively```\n",
        "\n"
      ]
    },
    {
      "cell_type": "code",
      "metadata": {
        "colab": {
          "base_uri": "https://localhost:8080/"
        },
        "id": "PNJjE3qX70YR",
        "outputId": "a9dad45c-395f-4866-d686-92263c82981a"
      },
      "source": [
        "# You can create a list of lists\n",
        "# Each inner list represents one sibling\n",
        "# The entire list contains all the siblings\n",
        "\n",
        "bestie_siblings_list = [ [\"blue\", 3, 1.61], [\"pink\", 9, 1.82], [\"yogurt pink\",  4, 1.75] ]    \n",
        "bestie_siblings_list"
      ],
      "execution_count": null,
      "outputs": [
        {
          "output_type": "execute_result",
          "data": {
            "text/plain": [
              "[['blue', 3, 1.61], ['pink', 9, 1.82], ['yogurt pink', 4, 1.75]]"
            ]
          },
          "metadata": {
            "tags": []
          },
          "execution_count": 72
        }
      ]
    },
    {
      "cell_type": "markdown",
      "metadata": {
        "id": "vkFeQx4DXKPE"
      },
      "source": [
        "### Indexing in Nested Python Lists"
      ]
    },
    {
      "cell_type": "markdown",
      "metadata": {
        "id": "9SrQIl2Vjia9"
      },
      "source": [
        "*You want to access the favorite color of the second sibling*"
      ]
    },
    {
      "cell_type": "code",
      "metadata": {
        "colab": {
          "base_uri": "https://localhost:8080/"
        },
        "id": "RRC2T2W8jrV2",
        "outputId": "2ec0ccf4-9c9b-41a0-ee75-4dfd5b3eb544"
      },
      "source": [
        "# First, get all the info about the second sibling\n",
        "bestie_siblings_list[1]"
      ],
      "execution_count": null,
      "outputs": [
        {
          "output_type": "execute_result",
          "data": {
            "text/plain": [
              "['pink', 9, 1.82]"
            ]
          },
          "metadata": {
            "tags": []
          },
          "execution_count": 73
        }
      ]
    },
    {
      "cell_type": "code",
      "metadata": {
        "colab": {
          "base_uri": "https://localhost:8080/",
          "height": 36
        },
        "id": "BcFofobfj6K3",
        "outputId": "aed2c2a5-3eb7-4295-a0c4-20d114582b83"
      },
      "source": [
        "# Now, apply another indexing to get the favorite color\n",
        "bestie_siblings_list[1][0]"
      ],
      "execution_count": null,
      "outputs": [
        {
          "output_type": "execute_result",
          "data": {
            "application/vnd.google.colaboratory.intrinsic+json": {
              "type": "string"
            },
            "text/plain": [
              "'pink'"
            ]
          },
          "metadata": {
            "tags": []
          },
          "execution_count": 74
        }
      ]
    },
    {
      "cell_type": "code",
      "metadata": {
        "colab": {
          "base_uri": "https://localhost:8080/"
        },
        "id": "5Bx9hZPc70o4",
        "outputId": "3db1780a-aa4b-4d63-cf7c-90d839cc0096"
      },
      "source": [
        "# Let's try finding the height of the first sibling\n",
        "bestie_siblings_list[0][2]"
      ],
      "execution_count": null,
      "outputs": [
        {
          "output_type": "execute_result",
          "data": {
            "text/plain": [
              "1.61"
            ]
          },
          "metadata": {
            "tags": []
          },
          "execution_count": 75
        }
      ]
    },
    {
      "cell_type": "code",
      "metadata": {
        "id": "biUovm67kWBC"
      },
      "source": [
        "# Try finding the favorite number the last sibling\n",
        "# Enter code here\n"
      ],
      "execution_count": null,
      "outputs": []
    },
    {
      "cell_type": "markdown",
      "metadata": {
        "id": "ww3wjw5xkvRL"
      },
      "source": [
        "### List Slicing"
      ]
    },
    {
      "cell_type": "markdown",
      "metadata": {
        "id": "gOHU2FO-nXmT"
      },
      "source": [
        "*Imagine you have a list containing the ingredients needed for dinner tonight*"
      ]
    },
    {
      "cell_type": "code",
      "metadata": {
        "colab": {
          "base_uri": "https://localhost:8080/"
        },
        "id": "zT9jOxKFnlj5",
        "outputId": "344d75f3-835f-4de9-be93-c0a8d23bdb58"
      },
      "source": [
        "ingredients_list = [\"spam\", \"egg\", \"bacon\", \"tomato\", \"ham\", \"lobster\"]\n",
        "print(ingredients_list)"
      ],
      "execution_count": null,
      "outputs": [
        {
          "output_type": "stream",
          "text": [
            "['spam', 'egg', 'bacon', 'tomato', 'ham', 'lobster']\n"
          ],
          "name": "stdout"
        }
      ]
    },
    {
      "cell_type": "markdown",
      "metadata": {
        "id": "bet_a_SJn7GO"
      },
      "source": [
        "You happened to change your mind and decided to settle for **bacon, tomato and ham**      \n",
        "```How will you create a new list that contains only these three ingredients?```"
      ]
    },
    {
      "cell_type": "markdown",
      "metadata": {
        "id": "CLRuu3AMmYlK"
      },
      "source": [
        "![Indexing in Python.png](data:image/png;base64,iVBORw0KGgoAAAANSUhEUgAAASwAAACoCAMAAABt9SM9AAAByFBMVEX///8ZLkGduO+Jx3Lk5OUACSwaLUIZL0CKynD++f8aLkCqrd6et/CBwXBmk4mXsu8AAACrq+mguu50iLCVsuuKxnNziOWqrK////wAACb4+Pjv7+9wnJOAt4CetveQreu1tPAAAB/Ly8sABi0ACyqjo6OLy2mPl6x1h+kAACJ9fX3e3t65ubmPj4+TrOFsgs+ampoAABKgpq20usEAIDhmiqB8AAAAABsAFy9xfIctPk8eN0x5eXm/v7/Q0NBqamqBlbxbaHJYZG8AITU1SFqkrbUAFCqBh5B8s2aHmMwhIi6TmqL/2TtDUV1pdH1eZnB7fYxKWWstQlcKJzVXV1eRjuddWeDi4/+MjPTi5fhhVem5u+ioofk4Kut8d+vPzPZpZ+hTTe6mpuNJVW5jc5JUeUY0TSp1p2JjiVRKaUBYZoE8QktJZUIUGBByql8gKh02STNeik4mJioUFhslNCMvSCRxlmM6SzcFDggtMjxbY4ZSbEZ6kLEYIREaIB9hbLtPYNFTc6a6kpCjbW2LPjzLq6zWw8NfAACEIiSFAACdX2CFFRqre4Dcu7jn09MyWHwjRm3DrUImYJd2f2qNgDqxoVHvzDtcXjgCfZftAAAP6ElEQVR4nO2di2PaRprAB5CF4iWNIkrB0jYtWKTFAmojrY3AYPNwhK2AQ7aPy+5eert+4FdjO/Gl63jT3XPiNM22ySW7m/1375sRYIGxK+7SJT3PLzZIM5+G0U/fjCTbAYQoFAqFQqFQKBQK5TwQOmPNWc3ZdU67YW8j1HPxTb3U/xamYJKnYgoe9GpRRWYNUxCRWa2aoq1rYq0molqBQaKuI1So1Ywc9DwHC7UiGi+oEFBE6mIcRRYNhHLFHGwTLFZrirW5WdBxwSK8ULyooFStps9JVpVSq9YiCOk1so5fBjFGtRhHUk1HYgGKxYKB40gHB4cSK+Cn/FQNiemh0gifr/LhUnqKRzU5rU3otlCRZSX0a7mAxAyL0IgmT40UEUoNpScmeKRMVZEaNlAqZiJ1dBRkxObAqDxSmspYW2fSYXBhpmUJmVMRdCOtTcVYIlIJy/DCDGI1Bq/KLgkppVFoP89oLiTKsgEPNxFS5bAmT0T+1YqOUeSa1V8dqUNw9HBX8iPgSBwZhrWOzMpmJeT1ynmxnIVdyiCxPppCqVGSmkgfyRVlEaVGTBRPu4qwEETB0aqIGGIA5WN6GvSZJU1H0TDICkMSy1VcZQ7NITGPkNdFQrWMhKpDKdwXhs3CMXSlGVErI6mUht7l/qV6OlFGSWZhWZGwN0XGQWQUJ1RaM5SOUDELmcXWy0UiaygjorxcRylZV/KwGVNiS6ANy1Llmpyfg8yqyhE8x+B/yIhJpTqIuaaHpVQMZMkwoDIy1pOSyyqMPJRty1LSVjpiWSG5mNGxLHWE5PkA5yybLGQMjWqGaMkKIVWTR4qk96IkSaFmZrFlNRypNmUpWhaltGsTPE4uvaSJTVkxlV1UQZZXY8RidVOB1sRyHRXTMAJHcqw+F27KqsVI3eLQiDdll5W3vFiZJdfMsMKWIQFNFCxXjUGp6pQFE6gL9rUpC0mpcrqMswIk4rFKZLlYlK0VXU1Z6ZuQFrWcCikoDQ+n1ZaseFA2R+ZQJq2Ienkkj5uWq2YdAsxY3rxmtmRVRxmSKZFaKaZ2yCqS3lnDsC5pRqYMA95AatGaNgaDMmTNWTGQBbscGSq0hiF0XMoM4eGhqCreX2sYapByGZJZkIow9aaGrDnLGJ3zQjGewtRYEGXLMEPpuC44gTc2NZZ1aQWQpYrpjGzJUq5lyLhXEGkGtw9oWUnywmkASS1ZMNNlyzCVwgyIJgYpSy4bhsHgzArGasEinq4j2BwjV1MGzBTHU4To9cIEr8GI+nU2hOSsWUzDuEqlq4ahixLM1UYsZU3w4SDMW1oQMTENmgxjWdUSI4Zkb8iM5UDcNZBV0g0WNkDYuZ6qwnyf9eoGXI6UMni0ZlNGKcKA/1C6iiTWVYZz61A1ZQ4tDkoVnKT48ATP5xW+hpQyP0WOm8pDh0R9Ymoiw9hCpZFRCYV5XA8Jx8f48CJUp6CBCV5a5FVww4spmL+CfBDmbh5EKBlopACnVIWHyR1V+YgBcdBIBNUmpviMddEUyU5MTX0EJ1jckokmRvElBmxYlpjYKBL5TVjlWdylqfCENz8ITRYd5xZJEa0i60uRekWHugt6VtibDB2Hkrjm+dHWhqScbLf16u2XwAuK/egNklDXc681p1UnQno33ldjA7xmoFAoFAqFQnlDiIPuwFuKhH/alyB2yMUxMx6VxARKkMvn3CB/0vYWwowjfHuPv2bw+hij5MUxvArfEkgUsUiJ5hqGyBpD0WhU+TQKiqbhPhVkJURmOprP5Zmx6LQkJaLTyo+2dA4gsqbRmNLMLCnxKQOyxtAMJFM8AtXxSC4C65S2LBSctmRBXn2KiCxEZEVRLiJOR+OD7ONbA5NgFHEaQe6IMzAzSeNMfgzWx8RoXFLiEQVnlhKkcxZBjMfjcEbMR/OQZDBnKdGgiOJSHh6iDMNICmIYZTw4NsDf1v28COakKJXlEDESpydDCoVCoVAoFMogaP4COBSivwk+ExH/KV8Ie2qZEiMn/u6BYiGNSejWZ5+J1p9xfPbZZSTSm8NeMPiv+KIIff7Fh/8WQl/eQhd+88UXCEWorJMo0VwUywrdQr/9XSj0u9+iW/9++0sqqydSMDhGMit06zfNSf7Wrc8vUFm9iCpomsiSiKtbYujLL0P/QWX1RBkbTxBZt3//+W0Uun05JH7++8t0GJ6ONNP9wz5pmsqiUCgUCoVCoVAoFAqFQqFQKBQKigf74heXHfOLvvjDTxH8B+e97eCLXqZCCH30bj8k/ZfeveQI9yfcxT6o/IrzOA72vPO+k2DPxXeuOOtsJ1c+uHxKZn3kc/dBctYtNDfwYdw+6/mYZo1b+OSqxzEgCmTBU3u9vUSKbet4mfvl+93bc54eXH3nSnf3nOD+4MNT/hTmWJa1n4JPcONdFsgTdiFYVS1ZNrkCWRHItvYoUgeyAgHocQD+wVITvGTtCVkklRgsy6rGu44fA+2YgPXsaX5ZsgKeVtueANd8BaKsuSmu40BWq6fHC75mf60yH+yom3yRJcIHH/5oZhE1AkkceLSE4TWf0CHL5pZo8jW39PmOu4SxZ1aAHHuOa68ep0Nrx7Asa9et2qbophHOY6niSElblk3Y8Su1azzHsqyDKeDDT3aN5AEpJisCXnBfaR3vH5cFz0uthvGOCySDwZd/vqcsIblsxRGl5EDNL/eSVVnxeFYrLUmtA4/zgauscHZZAU9jDXaxwpFcsuKwQ0+l6Y9bv9iS1XTDrQc8u6QVK+eg0fXKSVnCkuDz39ywBsHGLHSZDItks1Ygu7GER5VjWZvwPT+LlSR97vl5ITk/D6IezJL06Zblnt+AIzI77/Ml5+FF55NJKLHlVltWY8vj+arRgF2G78CdO2CjAZ4qDS5Q2eI8NlkQu8YFGnyjAiGeQOVO5SJZaGw3LnIXYSPPTqUzswLcXoDb3YLqwJ1KoNKAl+G2Lp6U5d6Hb39ZwLvmXlqeh/2BfUwu+JOwC0nhUjIJO3q3NR2fLsuWDEm3z7+0VE/yG3eTD+pl//LmwuZyx9hKznZOTA+WMrPJexu8sLS0udF5qmjLwnPJw6293creyh63srOzVtk+2AvsbO2stEdPWxaeeQ74g0pje2u18nBvZ7Wxs77jWb+33mhsw0LA8mAfhlCyu32wze0c7DVWd7b3Gp5ew5Dk0GwZpG3sC0ub5Q0hs3wv6b+35PdlNhaS7/KbG4Iv2Qp2JAvbX1hOJheEpdnkg8yGf3nJv9FR3SXr0r2Ncn152b0v8EJXpH3OCnBfBRqrgZUt3vMNHP+VA+4/G6uVxlb7FNaWRUbnhIdbv899defrld1VD2zEXdyDkrWrIMJzQhawu879MdBYf3h/9T5sclxul0WGQtkHybXkX/qTj3dn6rArbNI9e2953y8s+OynJ0eyYLT5k8v7ybvu8jw7668TWT67nu7M+gZG3/IDYR9evVOWr0tWZXdnd4vjue1G5f7auudhY6eCh+dJWZBcPOdZX/HwkFRrOysHAd5T2Q5wKyvQiE2Wjd31q38M8IH1+6u7q2fJmq365veF8uySP3nP508u/MnHzkMJjMDkQsdeOpIFE9zsfsaf5Pfrbv/dzQ0/9uWzj0OQ1WFrdn9h1l3O3BP8+3fPyqydHbC09/U2TD/bDc/O3gG3VWkc2M9oTVl4HK4/XAusbq9Vtlbub1X2dra5wBaU7GyvteK7M2vFsxfY2ttbW7+/tdI4Lu+S5b+7vy9sLCwJG5vgqZ7ZTF6BcSgsL+wnk5mOycbpMMTG5r/pLrPJ6ryaImUbyxnfsj/jP1UWPktx7QdrwX4N2pR1HOw5vszo2Ki3LM66LrGwp1xXZjnGuSxsRDip5HRZvlk4pyT9s52XWe5+ruA7ZbVL2xewXZy4gj+Fn14WGXaC0KON3rKsKz23IHRV/N9lnS6hM7MGJ0toXuueLct+8hCsazmfu3VdTAL6ujf02CZ4h7IcxXXJ8nU9u3vWun1nX5T6mtN28/nkavMWGY9Qp3xylXMMltVH+NVfvu+oVbiRdtxdO5dOk3XD3xd//pjwnsXHndiK3nvvL+/0xZ/7Cf6vXzmMs/W11eEei50BH793u/ePaEIOaQdecIh4ATkNfQs5JbHo/2GiUCg/e2xvhew0uP/mf5roQTR6ODn53Gms9GjS8ZtDS49Jw077+mxy8shp8JNvnzjtBe7I5LffHvURf2ZT6OiZ02DxyLks8Qk6dNxwKPQcPZl0+F5U4tPHzmWFEPP0jb3H1ZPH6Pl3jluTsCzHiX34fR+D4MmzQ4eRjw4f9SVr8tHhG9J19Bgp311wuk+S88xC6Pkk41yWePjYoSxo9lk/w0r84bnTpn/0pZ/iL6dI3zn/v+bMX/uYWfCb6k+KjtQePXv218eS0wQnb91/+Mh5T87k6eFjx8fpyaPJR07PBszk0++/72N8Hz1yfsye9TPBHz47muwn/nRCSDr8wXH086OjI8eyIPbIqawQen54dNp9WncoHDTnkwHc5P5w6Ph0T6FQKBQKhUI5T9A3uz6BiN96JEpuJ63PNG07Gpdy9G1JOpES8MCI+JMeyAdlTItNa+I4I1mfD9H+PvcQWVEpHh1XZsYZ/JEQuQR+r6Cx6IyUy6PEeBQlolE0Hg0OuqdvAURWQkpEmh/KMobiObyuwEM8nwNF8biYYKZpZqG2LBSfsYYhyIrAdDUmwkMcv4c/ikZBlzSeGHRP3wKkMYYRE1IeRZUEfuOpaSwrIUXj4owUzCtjYl6BQQn1M4Pu6VuAGA9GmbyYH4/jz8/AH0OuMPiUGIzmRVjKJ3L4W4wn6Pv1UygUCoVCoVAoFAqFQqFQKBQKhUKhUCgUCoVCoVAoFMr/bxiKY9DQ+WX0mCHZAhe3FnFxJ2j4zeK16FrsHTRoXC7WxQIuF3nSSqwNDZe311ws7jRyvVlajXcunhL1dqHrmfZyul6AR03rjHjTsn5eYAM3X7xgh1k2O3cjYxIlN6tsOmUuGqWbZrHcFoXDz72s7ItXL/57lNVMvRCLyJBN6Vpq1LyhjwSzN4NGrUTSS7PGx3mX9QJTeDmsmTWzmFLNjKkb5pBRjGbVdBZkjWpGMTtsaCT8PMsahgn+xYtXr1797frfNU038npUD9YZw0yXa2auWDUV9UZkMWioRkQmG5xnWV4Xm3314h8vX76+/g/t5hyqmWadqTG6oWkGY2hKOajnDfOGqZq5NJ2zYBi+Kly//vr19a811jTVumGqqmoYWnnO0E2pHjQihplazJfVNAk/z7JYGIfsp9dfv/z7vsaW9EW1WKxmMmoxpZUWbxTUfLmg6+ZizfWRrNLMImfDzdfXX/6TXE+5WLWusVotO0xWspFMSSsVy1DElumlA5Gleb/ebF17aqSguWKY+CKeXme1OVYB38Ns551Fx+U7CT/fsvC05WVZr5eFO1YXvhk8rnENWyvkbtYq+x/YQzogBRuJ3AAAAABJRU5ErkJggg==)"
      ]
    },
    {
      "cell_type": "markdown",
      "metadata": {
        "id": "w1UHmJN6nG_A"
      },
      "source": [
        "\n",
        "Image: Python Lists: Real Python\n"
      ]
    },
    {
      "cell_type": "code",
      "metadata": {
        "colab": {
          "base_uri": "https://localhost:8080/"
        },
        "id": "EQtXNtUWosv3",
        "outputId": "2e65b261-df16-4bd1-d9b7-b461a29bcc26"
      },
      "source": [
        "# Slicing is done using an interval, like so 2:5 means 2, 3, 4\n",
        "# The upper interval, 5, isn't included in the slice\n",
        "ingredients_list[2:5]"
      ],
      "execution_count": null,
      "outputs": [
        {
          "output_type": "execute_result",
          "data": {
            "text/plain": [
              "['bacon', 'tomato', 'ham']"
            ]
          },
          "metadata": {
            "tags": []
          },
          "execution_count": 91
        }
      ]
    },
    {
      "cell_type": "code",
      "metadata": {
        "colab": {
          "base_uri": "https://localhost:8080/"
        },
        "id": "-Bw1wI_h70dw",
        "outputId": "42f4008f-96c4-423d-fcb6-c2220d658ed7"
      },
      "source": [
        "# List Slicing (getting more than one element from a list) \n",
        "my_list = [2, 5, 7, \"NAME\", \"AGE\", \"SEX\", 15]\n",
        "\n",
        "# obtain elements starting from index 3 up to and not including element with index 6  \n",
        "print(my_list[3:6])"
      ],
      "execution_count": null,
      "outputs": [
        {
          "output_type": "stream",
          "text": [
            "['NAME', 'AGE', 'SEX']\n"
          ],
          "name": "stdout"
        }
      ]
    },
    {
      "cell_type": "code",
      "metadata": {
        "colab": {
          "base_uri": "https://localhost:8080/"
        },
        "id": "VGsNNIpn9ILB",
        "outputId": "714eae60-5e24-415a-8003-1f29cfb5d7e8"
      },
      "source": [
        "# Obtain elements starting from index 3 to end\n",
        "print(my_list[3:])"
      ],
      "execution_count": null,
      "outputs": [
        {
          "output_type": "stream",
          "text": [
            "['NAME', 'AGE', 'SEX', 15]\n"
          ],
          "name": "stdout"
        }
      ]
    },
    {
      "cell_type": "code",
      "metadata": {
        "colab": {
          "base_uri": "https://localhost:8080/"
        },
        "id": "W0Z8oCAC9IJL",
        "outputId": "66bd04f3-5fb9-4495-a6c0-c7f01c183fcd"
      },
      "source": [
        "# All elements start to end\n",
        "print(my_list[:])"
      ],
      "execution_count": null,
      "outputs": [
        {
          "output_type": "stream",
          "text": [
            "[2, 5, 7, 'NAME', 'AGE', 'SEX', 15]\n"
          ],
          "name": "stdout"
        }
      ]
    },
    {
      "cell_type": "code",
      "metadata": {
        "colab": {
          "base_uri": "https://localhost:8080/"
        },
        "id": "Z4sY6MEJ9IGv",
        "outputId": "a7b7a73f-2801-4f3f-9346-6fd80802a42b"
      },
      "source": [
        "# Obtain the length of the list (how many elements in the list) \n",
        "len(my_list)"
      ],
      "execution_count": null,
      "outputs": [
        {
          "output_type": "execute_result",
          "data": {
            "text/plain": [
              "7"
            ]
          },
          "metadata": {
            "tags": []
          },
          "execution_count": 80
        }
      ]
    },
    {
      "cell_type": "markdown",
      "metadata": {
        "id": "Q1qcVBl7G1GO"
      },
      "source": [
        "**MINI CHALLENGE #2:**\n",
        "- **Print the first, second and last element in the list below**\n",
        "- **Print all elements in the list, first 3 elements, and last three elements**\n",
        "\n",
        "```\n",
        "list_1 = [\"NAME\", \"AGE\", \"SEX\", \"KOFI\", \"222\", \"AMA\", \"YAW\"]\n",
        "```\n",
        "\n"
      ]
    },
    {
      "cell_type": "code",
      "metadata": {
        "id": "adQzmLx7Y7p7"
      },
      "source": [
        "# Enter code here\n"
      ],
      "execution_count": null,
      "outputs": []
    },
    {
      "cell_type": "markdown",
      "metadata": {
        "id": "pqPdr6RNINsf"
      },
      "source": [
        "**MINI CHALLENGE #3:** \n",
        "- **Print NAME**\n",
        "- **Print AGE, NAME, KOFI** \n",
        "- **Print T with two different ways**\n",
        "\n",
        "```\n",
        "my_list = [\"KWAMI\", [\"AGE\", \"NAME\", \"KOFI\"], \"YAW\", \"T\"]\n",
        "```\n"
      ]
    },
    {
      "cell_type": "markdown",
      "metadata": {
        "id": "7a2j5iF8CYCU"
      },
      "source": [
        "# 3. DICTIONARY\n",
        "Dictionaries are great when you want to specify exactly what each entry represents"
      ]
    },
    {
      "cell_type": "code",
      "metadata": {
        "id": "RrxN16VRCbyz"
      },
      "source": [
        "# my_dict = {'key1':'value1', 'key2':'value2', 'key3':'value3'}\n",
        "\n",
        "# Dictionary consists of a collection of key-value pairs. Each key-value pair maps the key to its corresponding value.\n",
        "# Keys are unique within a dictionary while values may not be. \n",
        "# List elements are accessed by their position in the list, via indexing while Dictionary elements are accessed via keys\n",
        "\n",
        "# Define a dictionary using key-value pairs\n",
        "my_dict = {'key1':'value1',\n",
        "           'key2':'value2', \n",
        "           'key3':'value3'}"
      ],
      "execution_count": null,
      "outputs": []
    },
    {
      "cell_type": "code",
      "metadata": {
        "colab": {
          "base_uri": "https://localhost:8080/"
        },
        "id": "dToa9hHWCcO5",
        "outputId": "8f26b62c-aa90-4f6b-90fc-f40f8f66ae60"
      },
      "source": [
        "# View the dictionary\n",
        "my_dict"
      ],
      "execution_count": null,
      "outputs": [
        {
          "output_type": "execute_result",
          "data": {
            "text/plain": [
              "{'key1': 'value1', 'key2': 'value2', 'key3': 'value3'}"
            ]
          },
          "metadata": {
            "tags": []
          },
          "execution_count": 82
        }
      ]
    },
    {
      "cell_type": "markdown",
      "metadata": {
        "id": "S6FhP6rZrFNK"
      },
      "source": [
        "Let's try the 'bestie info' code again\n"
      ]
    },
    {
      "cell_type": "markdown",
      "metadata": {
        "id": "Wt3VWr6Lqpcs"
      },
      "source": [
        "*Say, you want to store some info about your best friend*\n",
        "\n",
        "```You know their favorite color is \"orange\", their favorite number is 5 and their height (m) is 1.80```"
      ]
    },
    {
      "cell_type": "code",
      "metadata": {
        "id": "TC9LRsNVrnfw"
      },
      "source": [
        "# Let's create the dictionary\n",
        "# Mostly, dictionary keys are strings\n",
        "bestie_info = {\"Favorite Color\": \"Orange\", \"Favorite Number\": 5, \"Height\": 1.80}"
      ],
      "execution_count": null,
      "outputs": []
    },
    {
      "cell_type": "code",
      "metadata": {
        "colab": {
          "base_uri": "https://localhost:8080/",
          "height": 35
        },
        "id": "SR5RA5f0sWs8",
        "outputId": "7d50cc6e-b06f-4382-dfe6-2c80a212df95"
      },
      "source": [
        "# Now if I want to access their Favorite Color\n",
        "bestie_info[\"Favorite Color\"]"
      ],
      "execution_count": null,
      "outputs": [
        {
          "output_type": "execute_result",
          "data": {
            "application/vnd.google.colaboratory.intrinsic+json": {
              "type": "string"
            },
            "text/plain": [
              "'Orange'"
            ]
          },
          "metadata": {
            "tags": []
          },
          "execution_count": 94
        }
      ]
    },
    {
      "cell_type": "code",
      "metadata": {
        "id": "LKAc9pZassf6"
      },
      "source": [
        "# Access their height\n",
        "# Enter code here\n"
      ],
      "execution_count": null,
      "outputs": []
    },
    {
      "cell_type": "code",
      "metadata": {
        "colab": {
          "base_uri": "https://localhost:8080/"
        },
        "id": "KczBnCdmCcA5",
        "outputId": "fdadf8c6-8825-41b9-b0d0-11a58584bb39"
      },
      "source": [
        "# Check the data type\n",
        "type(my_dict)"
      ],
      "execution_count": null,
      "outputs": [
        {
          "output_type": "execute_result",
          "data": {
            "text/plain": [
              "dict"
            ]
          },
          "metadata": {
            "tags": []
          },
          "execution_count": 83
        }
      ]
    },
    {
      "cell_type": "code",
      "metadata": {
        "colab": {
          "base_uri": "https://localhost:8080/"
        },
        "id": "Li70lw0jCb87",
        "outputId": "edc01ad5-fd01-427b-8d45-2fb5ae5f989e"
      },
      "source": [
        "# Define a dictionary for a bank client listing all of his/her assets\n",
        "bank_assets = {\"KOFI\": 150000,\n",
        "                \"AMA\": 10000,\n",
        "                \"SAMUEL\": 20000}\n",
        "\n",
        "print(bank_assets)"
      ],
      "execution_count": null,
      "outputs": [
        {
          "output_type": "stream",
          "text": [
            "{'KOFI': 150000, 'AMA': 10000, 'SAMUEL': 20000}\n"
          ],
          "name": "stdout"
        }
      ]
    },
    {
      "cell_type": "code",
      "metadata": {
        "colab": {
          "base_uri": "https://localhost:8080/"
        },
        "id": "G_I_rJsWCb6E",
        "outputId": "0df4d321-1482-4a45-d969-c93750b31087"
      },
      "source": [
        "# Access elements in the dictionary\n",
        "bank_assets[\"AMA\"]"
      ],
      "execution_count": null,
      "outputs": [
        {
          "output_type": "execute_result",
          "data": {
            "text/plain": [
              "10000"
            ]
          },
          "metadata": {
            "tags": []
          },
          "execution_count": 97
        }
      ]
    },
    {
      "cell_type": "markdown",
      "metadata": {
        "id": "ufNJpbxgtVZ4"
      },
      "source": [
        "*Barbara is a new client*   \n",
        "```Add her info to the dictionary (Assets are 1500)```"
      ]
    },
    {
      "cell_type": "code",
      "metadata": {
        "colab": {
          "base_uri": "https://localhost:8080/"
        },
        "id": "1DigIhEQCb3x",
        "outputId": "cd2821e2-e375-4eb7-df86-645c03418679"
      },
      "source": [
        "# Add a new item to an existing dictionary\n",
        "bank_assets[\"Barbara\"] = 1500\n",
        "print(bank_assets)"
      ],
      "execution_count": null,
      "outputs": [
        {
          "output_type": "stream",
          "text": [
            "{'KOFI': 150000, 'AMA': 10000, 'SAMUEL': 20000, 'Barbara': 1500}\n"
          ],
          "name": "stdout"
        }
      ]
    },
    {
      "cell_type": "markdown",
      "metadata": {
        "id": "c6meGWBXtngF"
      },
      "source": [
        "*Samuel is no longer a client*     \n",
        "```Remove his info from the dictionary```\n"
      ]
    },
    {
      "cell_type": "code",
      "metadata": {
        "colab": {
          "base_uri": "https://localhost:8080/"
        },
        "id": "m05N8LIiCb0_",
        "outputId": "525c4f0c-e28e-4b8d-9c27-bca7bbaeb277"
      },
      "source": [
        "# Remove an item from the dictionary\n",
        "del school_fees[\"SAMUEL\"]\n",
        "print(school_fees)"
      ],
      "execution_count": null,
      "outputs": [
        {
          "output_type": "stream",
          "text": [
            "{'KOFI': 150000, 'AMA': 10000, 'Barbara': 1500}\n"
          ],
          "name": "stdout"
        }
      ]
    },
    {
      "cell_type": "code",
      "metadata": {
        "colab": {
          "base_uri": "https://localhost:8080/",
          "height": 197
        },
        "id": "c4GKclEzCoMe",
        "outputId": "48b774da-c8bb-4c79-9ca3-5d2729f1734d"
      },
      "source": [
        "# delete the entire dictionary\n",
        "# Note that you cannot print it out again because the entire dictionary has been deleted\n",
        "del school_fees\n",
        "print(school_fees)"
      ],
      "execution_count": null,
      "outputs": [
        {
          "output_type": "error",
          "ename": "NameError",
          "evalue": "ignored",
          "traceback": [
            "\u001b[0;31m---------------------------------------------------------------------------\u001b[0m",
            "\u001b[0;31mNameError\u001b[0m                                 Traceback (most recent call last)",
            "\u001b[0;32m<ipython-input-99-16023a350ca7>\u001b[0m in \u001b[0;36m<module>\u001b[0;34m()\u001b[0m\n\u001b[1;32m      2\u001b[0m \u001b[0;31m# Note that you cannot print it out again because the entire dictionary has been deleted\u001b[0m\u001b[0;34m\u001b[0m\u001b[0;34m\u001b[0m\u001b[0;34m\u001b[0m\u001b[0m\n\u001b[1;32m      3\u001b[0m \u001b[0;32mdel\u001b[0m \u001b[0mschool_fees\u001b[0m\u001b[0;34m\u001b[0m\u001b[0;34m\u001b[0m\u001b[0m\n\u001b[0;32m----> 4\u001b[0;31m \u001b[0mprint\u001b[0m\u001b[0;34m(\u001b[0m\u001b[0mschool_fees\u001b[0m\u001b[0;34m)\u001b[0m\u001b[0;34m\u001b[0m\u001b[0;34m\u001b[0m\u001b[0m\n\u001b[0m",
            "\u001b[0;31mNameError\u001b[0m: name 'school_fees' is not defined"
          ]
        }
      ]
    },
    {
      "cell_type": "markdown",
      "metadata": {
        "id": "9llozT9XLiqI"
      },
      "source": [
        "**MINI CHALLENGE #4:**\n",
        "- **Create a dictionary with 6 of your favourite items and their prices** \n"
      ]
    },
    {
      "cell_type": "code",
      "metadata": {
        "id": "KHOBUBNeKDXr"
      },
      "source": [
        ""
      ],
      "execution_count": null,
      "outputs": []
    },
    {
      "cell_type": "markdown",
      "metadata": {
        "id": "6kLIKQOZ6rNe"
      },
      "source": [
        "# 4. STRINGS"
      ]
    },
    {
      "cell_type": "code",
      "metadata": {
        "id": "rDjVcbLd6xJf"
      },
      "source": [
        "# A string in Python is a sequence of characters\n",
        "# String can be enclosed by either double or single quotes\n",
        "my_string = \"Hello Everyone and Welcome to Python towards data science track!\"\n",
        "my_string"
      ],
      "execution_count": null,
      "outputs": []
    },
    {
      "cell_type": "code",
      "metadata": {
        "id": "_UN8zNOJ60ud"
      },
      "source": [
        "# Obtain the datatype\n",
        "type(my_string)"
      ],
      "execution_count": null,
      "outputs": []
    },
    {
      "cell_type": "code",
      "metadata": {
        "id": "2r3aHdjn60wz",
        "colab": {
          "base_uri": "https://localhost:8080/",
          "height": 35
        },
        "outputId": "f5ca3489-2d4d-4d3a-e236-b440b4b1e017"
      },
      "source": [
        "# Combining two strings together (Let's combine the first and last name of a student)\n",
        "first_name = \"Kofi\" \n",
        "last_name = \"Biden\"\n",
        "full_name = first_name + last_name\n",
        "full_name"
      ],
      "execution_count": null,
      "outputs": [
        {
          "output_type": "execute_result",
          "data": {
            "application/vnd.google.colaboratory.intrinsic+json": {
              "type": "string"
            },
            "text/plain": [
              "'DonaldBiden'"
            ]
          },
          "metadata": {
            "tags": []
          },
          "execution_count": 100
        }
      ]
    },
    {
      "cell_type": "code",
      "metadata": {
        "id": "8DZ5JbeX601H",
        "colab": {
          "base_uri": "https://localhost:8080/",
          "height": 35
        },
        "outputId": "33b60406-3c9a-4ccc-acdf-09c2f8c14d24"
      },
      "source": [
        "# You can combine both strings together and add spaces in between\n",
        "full_name = first_name + \" \" + last_name\n",
        "full_name"
      ],
      "execution_count": null,
      "outputs": [
        {
          "output_type": "execute_result",
          "data": {
            "application/vnd.google.colaboratory.intrinsic+json": {
              "type": "string"
            },
            "text/plain": [
              "'Donald Biden'"
            ]
          },
          "metadata": {
            "tags": []
          },
          "execution_count": 101
        }
      ]
    },
    {
      "cell_type": "code",
      "metadata": {
        "id": "zOIOaPKf603q"
      },
      "source": [
        "# Methods on strings \n",
        "# upper will be used to convert the string into upper case\n",
        "my_string.upper()"
      ],
      "execution_count": null,
      "outputs": []
    },
    {
      "cell_type": "code",
      "metadata": {
        "id": "cX2lIPy-606m"
      },
      "source": [
        "# Split us used to divide up the string into words \n",
        "# The output from split is a list\n",
        "x = my_string.split()\n",
        "x"
      ],
      "execution_count": null,
      "outputs": []
    },
    {
      "cell_type": "code",
      "metadata": {
        "id": "sL0bYlxv8PLN"
      },
      "source": [
        "# Let's check that the datatype is list!\n",
        "type(x)"
      ],
      "execution_count": null,
      "outputs": []
    },
    {
      "cell_type": "code",
      "metadata": {
        "id": "sMlID0mv8Udk"
      },
      "source": [
        "# you can index any element in the list using indexing\n",
        "x[1]"
      ],
      "execution_count": null,
      "outputs": []
    },
    {
      "cell_type": "markdown",
      "metadata": {
        "id": "dfYAcMxQuiKE"
      },
      "source": [
        "### The split method\n",
        "\n",
        "*This is handy when you want to convert a string into a list*\n",
        "\n",
        "Methods are called using a dot notation like so:\n",
        "\n",
        "```\n",
        "# string.split()\n",
        "```\n",
        "\n"
      ]
    },
    {
      "cell_type": "markdown",
      "metadata": {
        "id": "Lzgndjj8vEuQ"
      },
      "source": [
        "*You have the full name of a person: \"Kwaku Yevenyo Trump\"*   \n",
        "\n",
        "```How will you generate a list that contains each name:``` \n",
        "```\n",
        "[Kwaku, Yevenyo, Trump]\n",
        "```\n"
      ]
    },
    {
      "cell_type": "code",
      "metadata": {
        "id": "icNCEq2x609e",
        "colab": {
          "base_uri": "https://localhost:8080/"
        },
        "outputId": "3a01215f-22a5-4231-ea1e-ee362067a049"
      },
      "source": [
        "name = 'Kwaku Yevenyo Trump'\n",
        "name.split()"
      ],
      "execution_count": null,
      "outputs": [
        {
          "output_type": "execute_result",
          "data": {
            "text/plain": [
              "['Kwaku', 'Yevenyo', 'Trump']"
            ]
          },
          "metadata": {
            "tags": []
          },
          "execution_count": 103
        }
      ]
    },
    {
      "cell_type": "code",
      "metadata": {
        "colab": {
          "base_uri": "https://localhost:8080/"
        },
        "id": "mTzL4JZcwc-G",
        "outputId": "2e74f4a6-626d-411e-b1ff-33e0b64aaff7"
      },
      "source": [
        "# You can specify which letter could be choosed to perform the split\n",
        "mail = \"abenaharris@gmail.com\"\n",
        "\n",
        "# If you want to separate the user name from the gmail part\n",
        "mail.split(\"@\")"
      ],
      "execution_count": null,
      "outputs": [
        {
          "output_type": "execute_result",
          "data": {
            "text/plain": [
              "['abenaharris', 'gmail.com']"
            ]
          },
          "metadata": {
            "tags": []
          },
          "execution_count": 106
        }
      ]
    },
    {
      "cell_type": "markdown",
      "metadata": {
        "id": "9cN9W4bkM-vs"
      },
      "source": [
        "**MINI CHALLENGE #5:**\n",
        "- **Write a code that takes an input from a student asking him/her about their feedback regarding the course. The code should split the student input into words and print them on screen**\n"
      ]
    },
    {
      "cell_type": "code",
      "metadata": {
        "id": "cWKRpQ7WOSnu"
      },
      "source": [
        ""
      ],
      "execution_count": null,
      "outputs": []
    },
    {
      "cell_type": "code",
      "metadata": {
        "id": "6C17ix5xpr4p"
      },
      "source": [
        ""
      ],
      "execution_count": null,
      "outputs": []
    },
    {
      "cell_type": "markdown",
      "metadata": {
        "id": "EdyxRUooNz5m"
      },
      "source": [
        "**MINI CHALLENGE #6:**\n",
        "- **Write a code that prompts a user requesting his/her e-mail and then extracts the user first name (Note that the e-mail is in firstname.lastname@gmail.com**\n"
      ]
    },
    {
      "cell_type": "code",
      "metadata": {
        "id": "0P41ds4zNrKl"
      },
      "source": [
        ""
      ],
      "execution_count": null,
      "outputs": []
    },
    {
      "cell_type": "markdown",
      "metadata": {
        "id": "A0luXBRqEGai"
      },
      "source": [
        "# 5. TUPLES"
      ]
    },
    {
      "cell_type": "code",
      "metadata": {
        "id": "WNh06IuWENEw"
      },
      "source": [
        "# A tuple is a sequence of immutable Python objects. \n",
        "# Tuples are sequences, just like lists. \n",
        "# The differences between tuples and lists are, the tuples cannot be changed unlike lists and tuples use parentheses, whereas lists use square brackets."
      ],
      "execution_count": null,
      "outputs": []
    },
    {
      "cell_type": "markdown",
      "metadata": {
        "id": "pQdmcedCx2L8"
      },
      "source": [
        "<table>\n",
        "  <tr>\n",
        "    <th>List</th>\n",
        "    <th>Tuple</th>\n",
        "  </tr>\n",
        "  <tr>\n",
        "    <td>Dyanamically Sized Collection</td>\n",
        "    <td>Fixed Sized Collection</td>\n",
        "  </tr>\n",
        "  <tr>\n",
        "    <td>Members are mutable/ changeable</td>\n",
        "    <td>Members are immutable/ unchangeable</td>\n",
        "  </tr>\n",
        "</table>"
      ]
    },
    {
      "cell_type": "code",
      "metadata": {
        "id": "U0fyXOJPENDi",
        "colab": {
          "base_uri": "https://localhost:8080/"
        },
        "outputId": "718dacad-995b-4a58-ced6-dfbf46f11c6e"
      },
      "source": [
        "tuple_1 = ('NAME', 'AGE', 10, 15, 1992)\n",
        "tuple_2 = (450, 55, 977, 2100)\n",
        "type(tuple_1)\n"
      ],
      "execution_count": null,
      "outputs": [
        {
          "output_type": "execute_result",
          "data": {
            "text/plain": [
              "tuple"
            ]
          },
          "metadata": {
            "tags": []
          },
          "execution_count": 107
        }
      ]
    },
    {
      "cell_type": "code",
      "metadata": {
        "id": "STfK4bAoEM_8"
      },
      "source": [
        "tuple_1"
      ],
      "execution_count": null,
      "outputs": []
    },
    {
      "cell_type": "code",
      "metadata": {
        "id": "my6d1Ou-EM-y"
      },
      "source": [
        "# Accessing elements in a tuple\n",
        "tuple_1[1]"
      ],
      "execution_count": null,
      "outputs": []
    },
    {
      "cell_type": "code",
      "metadata": {
        "id": "IIeC1e3qEWz6"
      },
      "source": [
        "# Tuple slicing\n",
        "tuple_1[1:3]"
      ],
      "execution_count": null,
      "outputs": []
    },
    {
      "cell_type": "code",
      "metadata": {
        "id": "o_yady6jEWwL",
        "colab": {
          "base_uri": "https://localhost:8080/",
          "height": 197
        },
        "outputId": "052155c3-c6c9-43d0-87a4-d5087b6e68db"
      },
      "source": [
        "# Changing a value of a tuple does not work! \n",
        "# 'tuple' object does not support item assignment\n",
        "tuple_1[1] = 0"
      ],
      "execution_count": null,
      "outputs": [
        {
          "output_type": "error",
          "ename": "TypeError",
          "evalue": "ignored",
          "traceback": [
            "\u001b[0;31m---------------------------------------------------------------------------\u001b[0m",
            "\u001b[0;31mTypeError\u001b[0m                                 Traceback (most recent call last)",
            "\u001b[0;32m<ipython-input-108-9f869e1dc9a7>\u001b[0m in \u001b[0;36m<module>\u001b[0;34m()\u001b[0m\n\u001b[1;32m      1\u001b[0m \u001b[0;31m# Changing a value of a tuple does not work!\u001b[0m\u001b[0;34m\u001b[0m\u001b[0;34m\u001b[0m\u001b[0;34m\u001b[0m\u001b[0m\n\u001b[1;32m      2\u001b[0m \u001b[0;31m# 'tuple' object does not support item assignment\u001b[0m\u001b[0;34m\u001b[0m\u001b[0;34m\u001b[0m\u001b[0;34m\u001b[0m\u001b[0m\n\u001b[0;32m----> 3\u001b[0;31m \u001b[0mtuple_1\u001b[0m\u001b[0;34m[\u001b[0m\u001b[0;36m1\u001b[0m\u001b[0;34m]\u001b[0m \u001b[0;34m=\u001b[0m \u001b[0;36m0\u001b[0m\u001b[0;34m\u001b[0m\u001b[0;34m\u001b[0m\u001b[0m\n\u001b[0m",
            "\u001b[0;31mTypeError\u001b[0m: 'tuple' object does not support item assignment"
          ]
        }
      ]
    },
    {
      "cell_type": "code",
      "metadata": {
        "id": "BCgEz7CdEWuP",
        "colab": {
          "base_uri": "https://localhost:8080/"
        },
        "outputId": "0bfa548e-262d-47b4-ea34-855da0acd84b"
      },
      "source": [
        "# Create a New Tuple from existing Tuples\n",
        "tuple_3 = tuple_1 + tuple_2\n",
        "tuple_3"
      ],
      "execution_count": null,
      "outputs": [
        {
          "output_type": "execute_result",
          "data": {
            "text/plain": [
              "('NAME', 'AGE', 10, 15, 1992, 450, 55, 977, 2100)"
            ]
          },
          "metadata": {
            "tags": []
          },
          "execution_count": 109
        }
      ]
    },
    {
      "cell_type": "markdown",
      "metadata": {
        "id": "RmZ49NcKPKII"
      },
      "source": [
        "**MINI CHALLENGE #7:**\n",
        "- **Define a tuple with your first name, last name, age and the number of friends. Find the length and type as well.**\n"
      ]
    },
    {
      "cell_type": "code",
      "metadata": {
        "id": "YZBTWVixwIkX"
      },
      "source": [
        ""
      ],
      "execution_count": null,
      "outputs": []
    },
    {
      "cell_type": "code",
      "metadata": {
        "id": "xMKjCcejQtJI"
      },
      "source": [
        ""
      ],
      "execution_count": null,
      "outputs": []
    },
    {
      "cell_type": "markdown",
      "metadata": {
        "id": "B7clmiIJEJF0"
      },
      "source": [
        "# 6. SETS "
      ]
    },
    {
      "cell_type": "code",
      "metadata": {
        "id": "wRAHn1SiEN2I"
      },
      "source": [
        "# A set is an unordered collection of items. Every element is unique (no duplicates).\n",
        "# A set is created by placing all the items (elements) inside curly braces {}, separated by comma or by using the built-in function set().\n",
        "# set of integers\n",
        "my_set = {'NAME', 'AGE', 'T'}\n",
        "print(my_set)\n"
      ],
      "execution_count": null,
      "outputs": []
    },
    {
      "cell_type": "code",
      "metadata": {
        "id": "4Y6cT3ykENzZ"
      },
      "source": [
        "# set do not have duplicates\n",
        "my_set = {'NAME', 'AGE', 'T','SEX','T','AGE'}\n",
        "print(my_set)"
      ],
      "execution_count": null,
      "outputs": []
    },
    {
      "cell_type": "markdown",
      "metadata": {
        "id": "XjibM376ROGD"
      },
      "source": [
        "**MINI CHALLENGE #8:**\n",
        "- **Remove the duplicates from the following list:**\n",
        "\n",
        "\n",
        "```\n",
        "my_list = ['NAME', 'AGE', 'T','SEX','T','AGE', 5, 6,5]\n",
        "```\n",
        "\n",
        "\n"
      ]
    }
  ]
}