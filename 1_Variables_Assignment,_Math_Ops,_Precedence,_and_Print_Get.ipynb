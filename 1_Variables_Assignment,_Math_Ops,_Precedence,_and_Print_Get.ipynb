{
 "cells": [
  {
   "cell_type": "markdown",
   "metadata": {},
   "source": [
    "# 1. VARIABLES ASSIGNMENT"
   ]
  },
  {
   "cell_type": "code",
   "execution_count": 1,
   "metadata": {
    "id": "wsrqiWxMlQcd"
   },
   "outputs": [],
   "source": [
    "# Define a variable named \"file_1\" and assign a number (integer) to it\n",
    "# integer is a whole number (no decimals) that could be positive or negative\n",
    "\n",
    "my_number = 5000"
   ]
  },
  {
   "cell_type": "code",
   "execution_count": 2,
   "metadata": {
    "colab": {
     "base_uri": "https://localhost:8080/"
    },
    "id": "_7BUQ4lalVpE",
    "outputId": "735f0dec-c2dc-4548-b1be-7b68f39a65d9"
   },
   "outputs": [
    {
     "data": {
      "text/plain": [
       "5000"
      ]
     },
     "execution_count": 2,
     "metadata": {},
     "output_type": "execute_result"
    }
   ],
   "source": [
    "# Let's view \"file_1\"\n",
    "my_number"
   ]
  },
  {
   "cell_type": "code",
   "execution_count": 3,
   "metadata": {
    "id": "5RLjbN6alXBn"
   },
   "outputs": [],
   "source": [
    "# Define a variable named \"file_2\" and assign a number (float) to it\n",
    "# Float are real numbers with a decimal point dividing the integer and fractional parts\n",
    "\n",
    "my_decimal = 2000.5"
   ]
  },
  {
   "cell_type": "code",
   "execution_count": 4,
   "metadata": {
    "colab": {
     "base_uri": "https://localhost:8080/"
    },
    "id": "XaseHcnvlY7V",
    "outputId": "72a3d88e-d697-4072-b2bd-8a4f20a30940"
   },
   "outputs": [
    {
     "data": {
      "text/plain": [
       "2000.5"
      ]
     },
     "execution_count": 4,
     "metadata": {},
     "output_type": "execute_result"
    }
   ],
   "source": [
    "# Let's view \"file_2\"\n",
    "my_decimal"
   ]
  },
  {
   "cell_type": "code",
   "execution_count": 5,
   "metadata": {
    "id": "1treMfL5phXx"
   },
   "outputs": [],
   "source": [
    "# Let's overwrite \"file_2\" (assume your file value increased)\n",
    "my_decimal = 3000.5"
   ]
  },
  {
   "cell_type": "code",
   "execution_count": 6,
   "metadata": {
    "colab": {
     "base_uri": "https://localhost:8080/"
    },
    "id": "QaBaDH0fp5cf",
    "outputId": "470a0035-fd89-4556-e321-4f48a7b49b57"
   },
   "outputs": [
    {
     "data": {
      "text/plain": [
       "3000.5"
      ]
     },
     "execution_count": 6,
     "metadata": {},
     "output_type": "execute_result"
    }
   ],
   "source": [
    "# Notice that \"file_2\" will only contain the most recent value\n",
    "my_decimal"
   ]
  },
  {
   "cell_type": "code",
   "execution_count": 7,
   "metadata": {
    "colab": {
     "base_uri": "https://localhost:8080/"
    },
    "id": "fqZRkUkilb-5",
    "outputId": "ac2c5403-d7f8-427b-d7bf-3ed2a6270f05"
   },
   "outputs": [
    {
     "data": {
      "text/plain": [
       "int"
      ]
     },
     "execution_count": 7,
     "metadata": {},
     "output_type": "execute_result"
    }
   ],
   "source": [
    "# Get the type of \"file_1\" which is integer\n",
    "# integer is a whole number (no decimals) that could be positive or negative\n",
    "type(my_decimal)"
   ]
  },
  {
   "cell_type": "code",
   "execution_count": 8,
   "metadata": {
    "colab": {
     "base_uri": "https://localhost:8080/"
    },
    "id": "T0Rszu5xlceK",
    "outputId": "f0b0035f-5861-49c7-bfbb-41c07b5b1bf5"
   },
   "outputs": [
    {
     "data": {
      "text/plain": [
       "float"
      ]
     },
     "execution_count": 8,
     "metadata": {},
     "output_type": "execute_result"
    }
   ],
   "source": [
    "# Get the type of \"file_2\" which is float\n",
    "# Float are real numbers with a decimal point dividing the integer and fractional parts\n",
    "type(my_decimal)"
   ]
  },
  {
   "cell_type": "markdown",
   "metadata": {
    "id": "75YN6NcVlv50"
   },
   "source": [
    "**MINI CHALLENGE #1:**\n",
    "- **We defined a variable student_id and we assigned these 3 values listed below to it. Without executing any code cells, what will these lines of code generate?**\n",
    "- **Verify your answer by executing the code cells** \n",
    "\n",
    "\n",
    "\n",
    "```\n",
    "student_id = 3324\n",
    "student_id = 3400\n",
    "student_id = 3530\n",
    "student_id\n",
    "```\n"
   ]
  },
  {
   "cell_type": "code",
   "execution_count": null,
   "metadata": {
    "id": "AbXq1BsUpcpu"
   },
   "outputs": [],
   "source": []
  },
  {
   "cell_type": "markdown",
   "metadata": {
    "id": "m-cJsnjeoFOa"
   },
   "source": [
    "**MINI CHALLENGE #2:**\n",
    "- **We defined a variable DSC_id and we assigned these 2 values listed below to it. Without executing any code cells, what will these lines of code generate?**\n",
    "- **Verify your answer by executing the code cells** \n",
    "\n",
    "\n",
    "\n",
    "```\n",
    "DSC_id = 112\n",
    "DSC_id = 115.3\n",
    "type(DSC_id)\n",
    "```\n"
   ]
  },
  {
   "cell_type": "code",
   "execution_count": null,
   "metadata": {
    "id": "wjaFVDJ2oESl"
   },
   "outputs": [],
   "source": []
  },
  {
   "cell_type": "markdown",
   "metadata": {
    "id": "lsCfJJEkkqGQ"
   },
   "source": [
    "# 2. MATH OPERATIONS"
   ]
  },
  {
   "cell_type": "code",
   "execution_count": 9,
   "metadata": {
    "colab": {
     "base_uri": "https://localhost:8080/"
    },
    "id": "vxspxvj2qTrx",
    "outputId": "8ee4cdd0-9de7-4b95-b14f-5c0b08c71fc1"
   },
   "outputs": [
    {
     "data": {
      "text/plain": [
       "6"
      ]
     },
     "execution_count": 9,
     "metadata": {},
     "output_type": "execute_result"
    }
   ],
   "source": [
    "# Define a variable named students and initialize it with 5\n",
    "# Let's assume that we had an additional student now we have 6 students instead of 5 \n",
    "# We can increment students by 1 as follows:\n",
    "students = 5\n",
    "students = students + 1 \n",
    "students "
   ]
  },
  {
   "cell_type": "code",
   "execution_count": 10,
   "metadata": {
    "colab": {
     "base_uri": "https://localhost:8080/"
    },
    "id": "ouiM4Bjar5aG",
    "outputId": "f4e753cb-0add-454d-dd49-00b3e8d395f0"
   },
   "outputs": [
    {
     "data": {
      "text/plain": [
       "6"
      ]
     },
     "execution_count": 10,
     "metadata": {},
     "output_type": "execute_result"
    }
   ],
   "source": [
    "# Alternatively, we can increment the variable students by 1 as follows:\n",
    "students = 5\n",
    "students += 1 \n",
    "students"
   ]
  },
  {
   "cell_type": "code",
   "execution_count": 11,
   "metadata": {
    "colab": {
     "base_uri": "https://localhost:8080/"
    },
    "id": "zkO001-qcZc3",
    "outputId": "2f3ff85e-7c4b-4163-c24e-4c83202aaf30"
   },
   "outputs": [
    {
     "data": {
      "text/plain": [
       "1300"
      ]
     },
     "execution_count": 11,
     "metadata": {},
     "output_type": "execute_result"
    }
   ],
   "source": [
    "# Let's assume that the tuition is $260 and we currently have 5 students in our file\n",
    "# We can calculate the total file value (account balance) as follows:\n",
    "student_count = 5\n",
    "student_price = 260\n",
    "account_balance = student_count * student_price\n",
    "account_balance"
   ]
  },
  {
   "cell_type": "code",
   "execution_count": 12,
   "metadata": {
    "colab": {
     "base_uri": "https://localhost:8080/"
    },
    "id": "4bXP93aqejr1",
    "outputId": "edfb1453-65c0-4446-f124-c925a8c3b4b9"
   },
   "outputs": [
    {
     "data": {
      "text/plain": [
       "20000"
      ]
     },
     "execution_count": 12,
     "metadata": {},
     "output_type": "execute_result"
    }
   ],
   "source": [
    "# Let's assume we have $20000 USD in our account\n",
    "# We want to pay the tutors using the total amount \n",
    "# A tutor is paid $3116 each\n",
    "\n",
    "account_balance = 20000\n",
    "account_balance "
   ]
  },
  {
   "cell_type": "code",
   "execution_count": 13,
   "metadata": {
    "colab": {
     "base_uri": "https://localhost:8080/"
    },
    "id": "Mc569vLOqxzg",
    "outputId": "ff028dbe-f338-49a4-8bb7-b63ed7419753"
   },
   "outputs": [
    {
     "data": {
      "text/plain": [
       "6.418485237483954"
      ]
     },
     "execution_count": 13,
     "metadata": {},
     "output_type": "execute_result"
    }
   ],
   "source": [
    "# Divide the account balance by the amount paid to each tutor and place the answer in units\n",
    "tutor_fee = 3116 \n",
    "units = account_balance/tutor_fee\n",
    "units"
   ]
  },
  {
   "cell_type": "markdown",
   "metadata": {
    "id": "8UaT7FRdNnCQ"
   },
   "source": [
    "**MINI CHALLENGE #3:** \n",
    "- **Write a code that calculates the total amount of money the DSC spend on tutor fees if the total number of tutors are 23 and each tutor is paid 2500 cedis** \n"
   ]
  },
  {
   "cell_type": "code",
   "execution_count": null,
   "metadata": {
    "id": "qMFnXorONnoa"
   },
   "outputs": [],
   "source": []
  },
  {
   "cell_type": "markdown",
   "metadata": {
    "id": "iB_6pgJeNnCV"
   },
   "source": [
    "**MINI CHALLENGE #4:**\n",
    "- **Write a code that takes in the amount students paid a day and calculate the total amount of money received after two days:**\n",
    "  - **fees paid on day 1 = 260 cedis** \n",
    "  - **fees paid on day 2 = 280 cedis**"
   ]
  },
  {
   "cell_type": "markdown",
   "metadata": {
    "id": "b_4wxmCklMQE"
   },
   "source": [
    "# 3. ORDER OF OPERATIONS (PRECEDENCE)"
   ]
  },
  {
   "cell_type": "code",
   "execution_count": 14,
   "metadata": {
    "colab": {
     "base_uri": "https://localhost:8080/"
    },
    "id": "PDPpISzEkov3",
    "outputId": "557377c1-de52-4d9b-a915-81e7fe466f33"
   },
   "outputs": [
    {
     "data": {
      "text/plain": [
       "35"
      ]
     },
     "execution_count": 14,
     "metadata": {},
     "output_type": "execute_result"
    }
   ],
   "source": [
    "# add 3 and 4 and then multiply the answer by 5\n",
    "# Note that parantheses have the highest precedence\n",
    "(3 + 4) * 5"
   ]
  },
  {
   "cell_type": "code",
   "execution_count": 15,
   "metadata": {
    "colab": {
     "base_uri": "https://localhost:8080/"
    },
    "id": "lqvGyX4psG6L",
    "outputId": "0cb6d449-3e05-4046-f34a-d38a40d06003"
   },
   "outputs": [
    {
     "data": {
      "text/plain": [
       "7"
      ]
     },
     "execution_count": 15,
     "metadata": {},
     "output_type": "execute_result"
    }
   ],
   "source": [
    "# Multiplication has higher precedence compared to addition\n",
    "1 + 2 * 3"
   ]
  },
  {
   "cell_type": "code",
   "execution_count": 16,
   "metadata": {
    "colab": {
     "base_uri": "https://localhost:8080/"
    },
    "id": "Nx2IPN34sI0A",
    "outputId": "f7e58b03-41b2-4c7f-ef0e-29c274f5e6f7"
   },
   "outputs": [
    {
     "data": {
      "text/plain": [
       "9.0"
      ]
     },
     "execution_count": 16,
     "metadata": {},
     "output_type": "execute_result"
    }
   ],
   "source": [
    "# Division has higher precedence compared to addition\n",
    "16 / 4 + 25 / 5"
   ]
  },
  {
   "cell_type": "code",
   "execution_count": null,
   "metadata": {
    "id": "A-sBw_wsdRTc"
   },
   "outputs": [],
   "source": []
  },
  {
   "cell_type": "markdown",
   "metadata": {
    "id": "LD0jeVJddRrf"
   },
   "source": [
    "**MINI CHALLENGE #5:**\n",
    "- **Assume that 15 students joined the coding program at a fee of 300 cedis per a student. DSC later increased the fee to 500 cedis per a student. Calculate the profit that will be made.**\n",
    "\n",
    "\n",
    "\n",
    "\n"
   ]
  },
  {
   "cell_type": "code",
   "execution_count": null,
   "metadata": {
    "id": "ieENt2DUNwDC"
   },
   "outputs": [],
   "source": []
  },
  {
   "cell_type": "markdown",
   "metadata": {
    "id": "s79S7MtycPGX"
   },
   "source": [
    "**MINI CHALLENGE #6:** \n",
    "- **Write a code that performs the following mathematical operation: z = |x − y| * (x + y)**"
   ]
  },
  {
   "cell_type": "code",
   "execution_count": null,
   "metadata": {
    "id": "yGVvKkDKc0LR"
   },
   "outputs": [],
   "source": []
  },
  {
   "cell_type": "markdown",
   "metadata": {
    "id": "Jvxd_A696qnl"
   },
   "source": [
    "# 4. PRINT OPERATION"
   ]
  },
  {
   "cell_type": "code",
   "execution_count": 17,
   "metadata": {
    "id": "74NV4Ix36wE2"
   },
   "outputs": [],
   "source": [
    "# Print function is used to print elements on the screen\n",
    "# Define a string x \n",
    "# A string in Python is a sequence of characters\n",
    "# String in python are surrounded by single or double quotation marks\n",
    "x = \"Welcome to Python towards data science track\""
   ]
  },
  {
   "cell_type": "code",
   "execution_count": 18,
   "metadata": {
    "colab": {
     "base_uri": "https://localhost:8080/"
    },
    "id": "08UQhKoR8d3H",
    "outputId": "4b6e7b39-1af7-44a4-b047-a7d5ed4c4c77"
   },
   "outputs": [
    {
     "data": {
      "text/plain": [
       "str"
      ]
     },
     "execution_count": 18,
     "metadata": {},
     "output_type": "execute_result"
    }
   ],
   "source": [
    "# Obtain the data type for 'x'\n",
    "type(x)"
   ]
  },
  {
   "cell_type": "code",
   "execution_count": 19,
   "metadata": {
    "colab": {
     "base_uri": "https://localhost:8080/"
    },
    "id": "1nHBcL7D61YQ",
    "outputId": "11696f70-11f4-44f0-9903-5bf3e2f46fee"
   },
   "outputs": [
    {
     "name": "stdout",
     "output_type": "stream",
     "text": [
      "Welcome to Python towards data science track\n"
     ]
    }
   ],
   "source": [
    "# Print x\n",
    "print(x)"
   ]
  },
  {
   "cell_type": "code",
   "execution_count": 20,
   "metadata": {
    "id": "7JUqe3DF7WQv"
   },
   "outputs": [],
   "source": [
    "# Define a string and put 'DSC' in it\n",
    "company_name = \"DSC\""
   ]
  },
  {
   "cell_type": "code",
   "execution_count": 21,
   "metadata": {
    "colab": {
     "base_uri": "https://localhost:8080/"
    },
    "id": "J_r5_BGt7Wsg",
    "outputId": "ddc75d51-5a2d-4024-bfd4-f0bc4dcaf305"
   },
   "outputs": [
    {
     "name": "stdout",
     "output_type": "stream",
     "text": [
      "Student name at DSC is Barbara\n"
     ]
    }
   ],
   "source": [
    "# The format() method formats the specified value and insert it in the placeholder. \n",
    "# The placeholder is defined using curly braces: {}\n",
    "print(\"Student name at {} is Barbara\".format(company_name))"
   ]
  },
  {
   "cell_type": "code",
   "execution_count": 22,
   "metadata": {
    "id": "cn5wkGcL7Wqs"
   },
   "outputs": [],
   "source": [
    "total_students = 30"
   ]
  },
  {
   "cell_type": "code",
   "execution_count": 23,
   "metadata": {
    "colab": {
     "base_uri": "https://localhost:8080/"
    },
    "id": "mcIEXuw47Wpk",
    "outputId": "cee39025-df2d-4567-956e-04c7d5742504"
   },
   "outputs": [
    {
     "name": "stdout",
     "output_type": "stream",
     "text": [
      "The total number of students at DSC are 30\n"
     ]
    }
   ],
   "source": [
    "# You can place two or more placeholders with print function \n",
    "print(\"The total number of students at {} are {}\".format(company_name, total_students))"
   ]
  },
  {
   "cell_type": "markdown",
   "metadata": {
    "id": "__Ybj8rmGKpY"
   },
   "source": [
    "**MINI CHALLENGE #7:**\n",
    "- **Write a code that print out the above statement along with your name**\n",
    "- **i.e.: The total number of students at DSC are 30. (Barbara)** "
   ]
  },
  {
   "cell_type": "code",
   "execution_count": null,
   "metadata": {
    "id": "i6LmOCF6Gd6G"
   },
   "outputs": [],
   "source": []
  },
  {
   "cell_type": "markdown",
   "metadata": {
    "id": "hp9P-qXN-Gll"
   },
   "source": [
    "# 5. GET USER INPUT"
   ]
  },
  {
   "cell_type": "code",
   "execution_count": null,
   "metadata": {
    "colab": {
     "base_uri": "https://localhost:8080/"
    },
    "id": "FFghOQVi7Wh_",
    "outputId": "3136444d-723c-4d54-88d9-8e0dd43fd0fe"
   },
   "outputs": [],
   "source": [
    "# input is a built-in function in python\n",
    "# Get student name as an input and print it out on the screen \n",
    "name = input(\"Welcome to DSC, What's your name: \")\n",
    "print('Hello', name)"
   ]
  },
  {
   "cell_type": "code",
   "execution_count": null,
   "metadata": {
    "colab": {
     "base_uri": "https://localhost:8080/"
    },
    "id": "u4D5GDGP7Wgm",
    "outputId": "ed499f70-1397-45f9-9848-406329fbcbbd"
   },
   "outputs": [],
   "source": [
    "# Obtain student data such as name, age and course and print them all out on the screen\n",
    "name = input(\"Welcome to the DSC, please enter your name: \")\n",
    "age = input(\"Enter your age: \")\n",
    "course = input(\"Enter the name of your course: \")\n",
    "print(\"My name is {}, I am {} years old, and i am in the {} track at the DSC\".format(name, age, course))"
   ]
  },
  {
   "cell_type": "code",
   "execution_count": null,
   "metadata": {
    "colab": {
     "base_uri": "https://localhost:8080/",
     "height": 229
    },
    "id": "W6hQp4YP7Wdr",
    "outputId": "444b1f95-4469-46a8-a9b5-df9eef8cda20"
   },
   "outputs": [],
   "source": [
    "# Obtain user inputs, perform mathematical operation, and print the results \n",
    "# Note: Are you getting an error? Move to the next code cell \n",
    "x = input(\"Enter the tuition fees: \")\n",
    "y = input(\"Enter the number of courses that you want to take: \")\n",
    "print('The total funds required to take {} courses at {} cedis is {}'.format(y, x, x*y)) "
   ]
  },
  {
   "cell_type": "code",
   "execution_count": null,
   "metadata": {
    "colab": {
     "base_uri": "https://localhost:8080/"
    },
    "id": "abPg-86q7Waq",
    "outputId": "4bb3453b-9b2b-4087-eaa5-ea08710d685b"
   },
   "outputs": [],
   "source": [
    "# Convert from string datatype to integer datatype prior to performing addition\n",
    "\n",
    "x = input(\"Enter the course fees: \")\n",
    "x = int(x)\n",
    "y = input(\"Enter the number of courses that you want to take: \")\n",
    "y = int(y)\n",
    "print('The total funds required to take {} courses at {} cedis per a course is {}'.format(y, x, x*y)) "
   ]
  },
  {
   "cell_type": "markdown",
   "metadata": {
    "id": "L8v5D4y1CIUQ"
   },
   "source": [
    "**MINI CHALLENGE #8:** \n",
    "- **Write a code that takes in the name of the company, course fee, the number of courses that you want to study and prints out the total funds required to pay for the courses. Find a sample expected output below:**\n",
    "\n",
    "  - Enter the fee for a course you want to study: 3000  \n",
    "  - Enter the number of courses that you want to pay for: 5\n",
    "  - Enter the name of the company that you want to study at: DSC\n",
    "  - The total funds required to pay for 5 number of DSC courses at 3000 is 15000\n"
   ]
  },
  {
   "cell_type": "markdown",
   "metadata": {
    "id": "Jm-0XhPntGtK"
   },
   "source": [
    "# EXCELLENT JOB"
   ]
  }
 ],
 "metadata": {
  "colab": {
   "collapsed_sections": [],
   "include_colab_link": true,
   "name": "1. Variables Assignment, Math Ops, Precedence, and Print_Get.ipynb",
   "provenance": []
  },
  "kernelspec": {
   "display_name": "Python 3",
   "language": "python",
   "name": "python3"
  },
  "language_info": {
   "codemirror_mode": {
    "name": "ipython",
    "version": 3
   },
   "file_extension": ".py",
   "mimetype": "text/x-python",
   "name": "python",
   "nbconvert_exporter": "python",
   "pygments_lexer": "ipython3",
   "version": "3.7.6"
  }
 },
 "nbformat": 4,
 "nbformat_minor": 1
}
