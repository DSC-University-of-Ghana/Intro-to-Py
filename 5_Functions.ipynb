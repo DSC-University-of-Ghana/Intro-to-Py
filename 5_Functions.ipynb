{
  "nbformat": 4,
  "nbformat_minor": 0,
  "metadata": {
    "colab": {
      "name": "5. Functions.ipynb",
      "provenance": [],
      "collapsed_sections": []
    },
    "kernelspec": {
      "display_name": "Python 3",
      "name": "python3"
    }
  },
  "cells": [
    {
      "cell_type": "markdown",
      "metadata": {
        "id": "2qdHbV6LKCdn"
      },
      "source": [
        "# 1. BUILT-IN FUNCTIONS"
      ]
    },
    {
      "cell_type": "markdown",
      "metadata": {
        "id": "cD7WT0ro8J3W"
      },
      "source": [
        "We've had a look at some functions in Python already"
      ]
    },
    {
      "cell_type": "markdown",
      "metadata": {
        "id": "dtmBr0Gv8vHQ"
      },
      "source": [
        "1. Print Function "
      ]
    },
    {
      "cell_type": "code",
      "metadata": {
        "colab": {
          "base_uri": "https://localhost:8080/"
        },
        "id": "kwnGPqcJ8y78",
        "outputId": "0593c3ae-4724-4cd5-9ded-6021ec156bec"
      },
      "source": [
        "print(\"Hello world !\")"
      ],
      "execution_count": null,
      "outputs": [
        {
          "output_type": "stream",
          "text": [
            "Hello world !\n"
          ],
          "name": "stdout"
        }
      ]
    },
    {
      "cell_type": "markdown",
      "metadata": {
        "id": "7QAFORNN9Lg8"
      },
      "source": [
        "2. Type Function"
      ]
    },
    {
      "cell_type": "code",
      "metadata": {
        "colab": {
          "base_uri": "https://localhost:8080/"
        },
        "id": "W7whkLBy9PyV",
        "outputId": "4c4cf30f-fc70-400d-d3b7-23369f4c9c6e"
      },
      "source": [
        "# This shows you the data type of the input\n",
        "type(2)"
      ],
      "execution_count": null,
      "outputs": [
        {
          "output_type": "execute_result",
          "data": {
            "text/plain": [
              "int"
            ]
          },
          "metadata": {
            "tags": []
          },
          "execution_count": 2
        }
      ]
    },
    {
      "cell_type": "markdown",
      "metadata": {
        "id": "GCTr7LNk9mZ-"
      },
      "source": [
        "3. List Function"
      ]
    },
    {
      "cell_type": "markdown",
      "metadata": {
        "id": "fCafOBin-iYb"
      },
      "source": [
        " Let's define 2 lists: x and y    \n",
        "\n",
        "\n",
        "```\n",
        "x consists of a list of random integers\n",
        "y consists of the first 6 counting numbers\n",
        "```\n",
        "\n"
      ]
    },
    {
      "cell_type": "code",
      "metadata": {
        "colab": {
          "background_save": true
        },
        "id": "Wd2y6d4B-_HA"
      },
      "source": [
        "# Define x\n",
        "x = [4, 1, 5, 5, 6, 7]"
      ],
      "execution_count": null,
      "outputs": []
    },
    {
      "cell_type": "code",
      "metadata": {
        "colab": {
          "base_uri": "https://localhost:8080/"
        },
        "id": "1hEOfBbJ9vo9",
        "outputId": "0e61dc69-ba5d-42c7-c47c-01a0283d97c5"
      },
      "source": [
        "# Now if we want a list, y: [1, 2, 3, 4, 5, 6]\n",
        "# We could either define it manually or use the list function\n",
        "\n",
        "range(1, 7)"
      ],
      "execution_count": null,
      "outputs": [
        {
          "output_type": "execute_result",
          "data": {
            "text/plain": [
              "range(1, 7)"
            ]
          },
          "metadata": {
            "tags": []
          },
          "execution_count": 3
        }
      ]
    },
    {
      "cell_type": "code",
      "metadata": {
        "colab": {
          "base_uri": "https://localhost:8080/"
        },
        "id": "nGXdLbHj-PFf",
        "outputId": "678000d7-784c-4784-f5fa-fa6ec2604238"
      },
      "source": [
        "list(range(1, 7))"
      ],
      "execution_count": null,
      "outputs": [
        {
          "output_type": "execute_result",
          "data": {
            "text/plain": [
              "[1, 2, 3, 4, 5, 6]"
            ]
          },
          "metadata": {
            "tags": []
          },
          "execution_count": 4
        }
      ]
    },
    {
      "cell_type": "code",
      "metadata": {
        "colab": {
          "base_uri": "https://localhost:8080/"
        },
        "id": "wlYds_UIK3Uq",
        "outputId": "46545891-66d9-42f3-f0f2-19d41b17997d"
      },
      "source": [
        "y = list(range(1, 7))\n",
        "print(y)"
      ],
      "execution_count": null,
      "outputs": [
        {
          "output_type": "stream",
          "text": [
            "[1, 2, 3, 4, 5, 6]\n"
          ],
          "name": "stdout"
        }
      ]
    },
    {
      "cell_type": "markdown",
      "metadata": {
        "id": "XFXw4nsU_tXf"
      },
      "source": [
        "4. Len function"
      ]
    },
    {
      "cell_type": "code",
      "metadata": {
        "colab": {
          "base_uri": "https://localhost:8080/",
          "height": 171
        },
        "id": "miIYseUFFl3V",
        "outputId": "80cf593b-7b9f-4901-e171-8563e5ddc398"
      },
      "source": [
        "len(x)"
      ],
      "execution_count": null,
      "outputs": [
        {
          "output_type": "error",
          "ename": "NameError",
          "evalue": "ignored",
          "traceback": [
            "\u001b[0;31m---------------------------------------------------------------------------\u001b[0m",
            "\u001b[0;31mNameError\u001b[0m                                 Traceback (most recent call last)",
            "\u001b[0;32m<ipython-input-7-a7f4a5366567>\u001b[0m in \u001b[0;36m<module>\u001b[0;34m()\u001b[0m\n\u001b[0;32m----> 1\u001b[0;31m \u001b[0mlen\u001b[0m\u001b[0;34m(\u001b[0m\u001b[0mx\u001b[0m\u001b[0;34m)\u001b[0m\u001b[0;34m\u001b[0m\u001b[0;34m\u001b[0m\u001b[0m\n\u001b[0m",
            "\u001b[0;31mNameError\u001b[0m: name 'x' is not defined"
          ]
        }
      ]
    },
    {
      "cell_type": "code",
      "metadata": {
        "colab": {
          "base_uri": "https://localhost:8080/"
        },
        "id": "sOb6YyohK3XA",
        "outputId": "bad4afa7-9d01-4444-b5fd-54d9487a6a20"
      },
      "source": [
        "# Let's obtain the length of y\n",
        "len(y)"
      ],
      "execution_count": null,
      "outputs": [
        {
          "output_type": "execute_result",
          "data": {
            "text/plain": [
              "6"
            ]
          },
          "metadata": {
            "tags": []
          },
          "execution_count": 6
        }
      ]
    },
    {
      "cell_type": "markdown",
      "metadata": {
        "id": "Po91ui-lAP-b"
      },
      "source": [
        "5. Min function"
      ]
    },
    {
      "cell_type": "code",
      "metadata": {
        "colab": {
          "base_uri": "https://localhost:8080/"
        },
        "id": "E2d-scjBK3f_",
        "outputId": "e9328bff-ca99-47eb-e764-246ec7286b2f"
      },
      "source": [
        "# Let's obtain the minimum value of x\n",
        "min(x)"
      ],
      "execution_count": null,
      "outputs": [
        {
          "output_type": "execute_result",
          "data": {
            "text/plain": [
              "1"
            ]
          },
          "metadata": {
            "tags": []
          },
          "execution_count": 8
        }
      ]
    },
    {
      "cell_type": "markdown",
      "metadata": {
        "id": "ccj4zc4XATkD"
      },
      "source": [
        "6. Max function"
      ]
    },
    {
      "cell_type": "code",
      "metadata": {
        "colab": {
          "base_uri": "https://localhost:8080/"
        },
        "id": "MPcUuoY6K3id",
        "outputId": "a30bb7f9-d86b-4a27-83ad-471fd4290a6d"
      },
      "source": [
        "# Let's obtain the maximum value\n",
        "max(x)"
      ],
      "execution_count": null,
      "outputs": [
        {
          "output_type": "execute_result",
          "data": {
            "text/plain": [
              "7"
            ]
          },
          "metadata": {
            "tags": []
          },
          "execution_count": 9
        }
      ]
    },
    {
      "cell_type": "markdown",
      "metadata": {
        "id": "thEBjigfAXAe"
      },
      "source": [
        "7. Sum function"
      ]
    },
    {
      "cell_type": "code",
      "metadata": {
        "colab": {
          "base_uri": "https://localhost:8080/"
        },
        "id": "NYVetBn-Kcpk",
        "outputId": "0d0b1b6d-4d76-43dc-e2c1-277402569e5d"
      },
      "source": [
        "# Let's obtain the sum of elements in x\n",
        "print(sum(x))"
      ],
      "execution_count": null,
      "outputs": [
        {
          "output_type": "stream",
          "text": [
            "28\n"
          ],
          "name": "stdout"
        }
      ]
    },
    {
      "cell_type": "markdown",
      "metadata": {
        "id": "CvaYA-XocFOc"
      },
      "source": [
        "**MINI CHALLENGE #1:**     \n",
        "*A classs of students take a test which is graded out of 10*\n",
        "- ```Write code to find the average score in a class of 10 students```      \n",
        "\n",
        "*The \"score_list\" contains the scores of each student*\n"
      ]
    },
    {
      "cell_type": "code",
      "metadata": {
        "id": "mv1pFSNpBmha"
      },
      "source": [
        "score_list = [7, 8, 9, 7, 5, 5, 10, 6, 8, 9]\n",
        "# Enter code here\n",
        "\n",
        "\n",
        "# Hint: average = sum of the scores / length of the score list "
      ],
      "execution_count": null,
      "outputs": []
    },
    {
      "cell_type": "markdown",
      "metadata": {
        "id": "AHrwK11xMArY"
      },
      "source": [
        "# 2. CUSTOM FUNCTIONS"
      ]
    },
    {
      "cell_type": "markdown",
      "metadata": {
        "id": "YLaZJ8UREQ8k"
      },
      "source": [
        "Functions are a way of reusing code you've already written"
      ]
    },
    {
      "cell_type": "markdown",
      "metadata": {
        "id": "rxcbUrrVEZ2h"
      },
      "source": [
        "**Scenario**      \n",
        "You're creating a social media site and want to welcome a user whenever they sign in"
      ]
    },
    {
      "cell_type": "code",
      "metadata": {
        "id": "LhhFvM60MGrX"
      },
      "source": [
        "# Let's define a function named \"welcome_user\" that does not receive any arguments\n",
        "def welcome_user():\n",
        "    print(\"Welcome to Rattler\")"
      ],
      "execution_count": null,
      "outputs": []
    },
    {
      "cell_type": "code",
      "metadata": {
        "colab": {
          "base_uri": "https://localhost:8080/"
        },
        "id": "-jJdkGlGMGwE",
        "outputId": "f924ac2a-4d1c-42be-e62e-8e0b2db09826"
      },
      "source": [
        "# We can now call the function anytime a user signs in\n",
        "welcome_user()"
      ],
      "execution_count": null,
      "outputs": [
        {
          "output_type": "stream",
          "text": [
            "Welcome to Rattler\n"
          ],
          "name": "stdout"
        }
      ]
    },
    {
      "cell_type": "markdown",
      "metadata": {
        "id": "YJl-i2FHL23i"
      },
      "source": [
        "*Function can take inputs as well*  \n",
        "\n",
        "**Scenario**       \n",
        "We want to upgrade our welcome message to include the user's name       \n",
        "Like so:       \n",
        "```Welcome Manu to Rattler```"
      ]
    },
    {
      "cell_type": "code",
      "metadata": {
        "id": "Vlirx4tQOrbv"
      },
      "source": [
        "def welcome_user(name):\n",
        "  print(\"Welcome to Rattler\", name)"
      ],
      "execution_count": null,
      "outputs": []
    },
    {
      "cell_type": "code",
      "metadata": {
        "colab": {
          "base_uri": "https://localhost:8080/"
        },
        "id": "qwtmqyqbO0br",
        "outputId": "c4eebb00-2635-4f03-bba0-d24e1e05a7f8"
      },
      "source": [
        "# We can now call the function and pass in the input/argument\n",
        "welcome_user(\"Manu\")"
      ],
      "execution_count": null,
      "outputs": [
        {
          "output_type": "stream",
          "text": [
            "Welcome Manu to Rattler\n"
          ],
          "name": "stdout"
        }
      ]
    },
    {
      "cell_type": "code",
      "metadata": {
        "colab": {
          "base_uri": "https://localhost:8080/"
        },
        "id": "0OjrRtVPPAHY",
        "outputId": "8111f876-3683-4409-e6d0-47a7728af616"
      },
      "source": [
        "# So now, we can welcome any user at all \n",
        "# First ask for their username\n",
        "username = input(\"Enter your username: \")\n",
        "\n",
        "# Now welcome them to your site\n",
        "welcome_user(username)"
      ],
      "execution_count": null,
      "outputs": [
        {
          "output_type": "stream",
          "text": [
            "Enter your username: Nutifafa\n",
            "Welcome Nutifafa to Rattler\n"
          ],
          "name": "stdout"
        }
      ]
    },
    {
      "cell_type": "markdown",
      "metadata": {
        "id": "7EhWaHRgPmME"
      },
      "source": [
        "## Return statements"
      ]
    },
    {
      "cell_type": "markdown",
      "metadata": {
        "id": "emGgJaGhTaMQ"
      },
      "source": [
        "In cases where you want to produce a value from the function, you'll use a return statement"
      ]
    },
    {
      "cell_type": "code",
      "metadata": {
        "id": "OSVyOu91MGuW"
      },
      "source": [
        "# Define a function that takes in argument x and return the squared value \n",
        "def square_number(x):\n",
        "    return x ** 2"
      ],
      "execution_count": null,
      "outputs": []
    },
    {
      "cell_type": "code",
      "metadata": {
        "id": "NVPrMz2_MPz1"
      },
      "source": [
        "# In this case, you can assign a variable to the value that you produced\n",
        "output = square_number(7)"
      ],
      "execution_count": null,
      "outputs": []
    },
    {
      "cell_type": "code",
      "metadata": {
        "colab": {
          "base_uri": "https://localhost:8080/"
        },
        "id": "IplvIsXjVUGH",
        "outputId": "b9d0a48a-6afb-466c-d311-8460a1fd98ca"
      },
      "source": [
        "output"
      ],
      "execution_count": null,
      "outputs": [
        {
          "output_type": "execute_result",
          "data": {
            "text/plain": [
              "49"
            ]
          },
          "metadata": {
            "tags": []
          },
          "execution_count": 22
        }
      ]
    },
    {
      "cell_type": "markdown",
      "metadata": {
        "id": "DB1zlBEEfDlA"
      },
      "source": [
        "**MINI CHALLENGE #2:** \n",
        "- **Write a code that takes in two inputs (number of items bought and prices) from the user and calculate the total account balance**"
      ]
    },
    {
      "cell_type": "code",
      "metadata": {
        "id": "s7fbv5eApK97"
      },
      "source": [
        "# Enter code here\n"
      ],
      "execution_count": null,
      "outputs": []
    },
    {
      "cell_type": "markdown",
      "metadata": {
        "id": "lBj4QkQEpLkX"
      },
      "source": [
        "# 3. LAMBDA EXPRESSIONS "
      ]
    },
    {
      "cell_type": "markdown",
      "metadata": {
        "id": "0OsWJy6pvoqz"
      },
      "source": [
        "The normal syntax for a function is:        \n",
        "```\n",
        "def my_function(x):        \n",
        "    return your_output     \n",
        "```    "
      ]
    },
    {
      "cell_type": "markdown",
      "metadata": {
        "id": "DpFo8xzxwL-S"
      },
      "source": [
        "Lambda expressions are a shorthand version of this:    \n",
        "```\n",
        "lambda x: your_output\n",
        "```"
      ]
    },
    {
      "cell_type": "markdown",
      "metadata": {
        "id": "X21qD9qoxal3"
      },
      "source": [
        "* Lambda function is used to create a function without a name \n",
        "* Lambda functions are mainly used with filter() and map() [they will be discussed later on]"
      ]
    },
    {
      "cell_type": "code",
      "metadata": {
        "id": "FV5-hEWdpRdd"
      },
      "source": [
        "# Let's take another look at the \"square_number\" function\n",
        "def square_number(x):\n",
        "    return x**2"
      ],
      "execution_count": null,
      "outputs": []
    },
    {
      "cell_type": "code",
      "metadata": {
        "colab": {
          "base_uri": "https://localhost:8080/"
        },
        "id": "cQZDrvwCpRa3",
        "outputId": "9962b9bd-e1a7-4409-da5d-292fdec00c33"
      },
      "source": [
        "# Function call\n",
        "square_number(3)"
      ],
      "execution_count": null,
      "outputs": [
        {
          "output_type": "execute_result",
          "data": {
            "text/plain": [
              "9"
            ]
          },
          "metadata": {
            "tags": []
          },
          "execution_count": 27
        }
      ]
    },
    {
      "cell_type": "code",
      "metadata": {
        "id": "r5u0-IOBpRZq"
      },
      "source": [
        "# We can accomplish the same task using Lambda expression\n",
        "\n",
        "y = lambda x:x**2"
      ],
      "execution_count": null,
      "outputs": []
    },
    {
      "cell_type": "code",
      "metadata": {
        "colab": {
          "base_uri": "https://localhost:8080/"
        },
        "id": "hLsuWg7apRW9",
        "outputId": "595382ae-c8c6-4e14-ad2f-61bac60183e9"
      },
      "source": [
        "y(3)"
      ],
      "execution_count": null,
      "outputs": [
        {
          "output_type": "execute_result",
          "data": {
            "text/plain": [
              "9"
            ]
          },
          "metadata": {
            "tags": []
          },
          "execution_count": 31
        }
      ]
    },
    {
      "cell_type": "code",
      "metadata": {
        "id": "OKcE7JHBuzTj"
      },
      "source": [
        "# Note that lambda expression can take in more than one argument \n",
        "# Let's create a function that sums up three numbers\n",
        "def sum_numbers(x, y, z):\n",
        "    return x+y+z"
      ],
      "execution_count": null,
      "outputs": []
    },
    {
      "cell_type": "code",
      "metadata": {
        "colab": {
          "base_uri": "https://localhost:8080/"
        },
        "id": "VyEdRTwXuzQ4",
        "outputId": "b5f3bd5f-44bf-4c9a-a3c6-5f649f3f2d13"
      },
      "source": [
        "sum_numbers(1, 2, 3)"
      ],
      "execution_count": null,
      "outputs": [
        {
          "output_type": "execute_result",
          "data": {
            "text/plain": [
              "6"
            ]
          },
          "metadata": {
            "tags": []
          },
          "execution_count": 28
        }
      ]
    },
    {
      "cell_type": "code",
      "metadata": {
        "id": "kAuNql-zuzPE"
      },
      "source": [
        "result = lambda  x, y, z : x+y+z   "
      ],
      "execution_count": null,
      "outputs": []
    },
    {
      "cell_type": "code",
      "metadata": {
        "colab": {
          "base_uri": "https://localhost:8080/"
        },
        "id": "8PfLE79Lvuvg",
        "outputId": "9e605064-4a58-442f-c42f-13b75fd33559"
      },
      "source": [
        "result(1, 2, 3)"
      ],
      "execution_count": null,
      "outputs": [
        {
          "output_type": "execute_result",
          "data": {
            "text/plain": [
              "6"
            ]
          },
          "metadata": {
            "tags": []
          },
          "execution_count": 35
        }
      ]
    },
    {
      "cell_type": "markdown",
      "metadata": {
        "id": "KTRBKK97fQGG"
      },
      "source": [
        "**MINI CHALLENGE #3:**\n",
        "- **Repeat mini challenge #2 (Write a code that takes in two inputs from the user and calculates the total) using lambda expressions instead**"
      ]
    },
    {
      "cell_type": "code",
      "metadata": {
        "id": "jz5bvTOmuHhG"
      },
      "source": [
        "# Enter code here\n"
      ],
      "execution_count": null,
      "outputs": []
    },
    {
      "cell_type": "markdown",
      "metadata": {
        "id": "S8pekOcjKF6H"
      },
      "source": [
        "# 4. MAP "
      ]
    },
    {
      "cell_type": "markdown",
      "metadata": {
        "id": "0d2UsfMJ0Trk"
      },
      "source": [
        "\"map\" allows us to perform a function on each member of a list     \n",
        "\n",
        "**Scenario**       \n",
        "Your students didn't perform so well in a test which was graded out 30.      \n",
        "Here are their scores:\n",
        "```\n",
        "score_list = [6, 7, 9, 11, 5, 13, 10, 8, 7, 4]\n",
        "```\n",
        "\n"
      ]
    },
    {
      "cell_type": "code",
      "metadata": {
        "id": "pc6LxQQFKdM2"
      },
      "source": [
        "# You decide to add 5 marks to each person's score\n",
        "score_list = [6, 7, 9, 11, 5, 13, 10, 8, 7, 4]"
      ],
      "execution_count": null,
      "outputs": []
    },
    {
      "cell_type": "code",
      "metadata": {
        "id": "4j-jb63K198H"
      },
      "source": [
        "# This is where the \"map\" becomes useful\n",
        "# First define function that adds 5 marks to each student's score\n",
        "def add_5(score):\n",
        "  return score + 5"
      ],
      "execution_count": null,
      "outputs": []
    },
    {
      "cell_type": "code",
      "metadata": {
        "colab": {
          "base_uri": "https://localhost:8080/"
        },
        "id": "-xlHhWoU2Pey",
        "outputId": "6df0dc58-a3d9-4b04-af1a-b7858b0b41e2"
      },
      "source": [
        "# Now the map function allows you to add 5 marks to each score\n",
        "map(add_5, score_list)"
      ],
      "execution_count": null,
      "outputs": [
        {
          "output_type": "execute_result",
          "data": {
            "text/plain": [
              "<map at 0x7f37eccf8828>"
            ]
          },
          "metadata": {
            "tags": []
          },
          "execution_count": 38
        }
      ]
    },
    {
      "cell_type": "code",
      "metadata": {
        "colab": {
          "base_uri": "https://localhost:8080/"
        },
        "id": "TzTvNesa2lOB",
        "outputId": "4fe632a8-04a0-4e3c-f8ba-749d5cfd27f3"
      },
      "source": [
        "# To see the actual list, use the list function\n",
        "list(map(add_5, score_list))"
      ],
      "execution_count": null,
      "outputs": [
        {
          "output_type": "execute_result",
          "data": {
            "text/plain": [
              "[11, 12, 14, 16, 10, 18, 15, 13, 12, 9]"
            ]
          },
          "metadata": {
            "tags": []
          },
          "execution_count": 39
        }
      ]
    },
    {
      "cell_type": "code",
      "metadata": {
        "id": "Tum9IbuI8dS1"
      },
      "source": [
        "# We can use lambda expressions for the same task\n",
        "list( map( lambda x: x + 5, score_list ) )"
      ],
      "execution_count": null,
      "outputs": []
    },
    {
      "cell_type": "markdown",
      "metadata": {
        "id": "f05MmzJs21hb"
      },
      "source": [
        "\"map\" can also take in **two** lists and perform a function on them together\n",
        "\n",
        "**Scenario**       \n",
        "You decided to conduct another test for your students     \n",
        "Here are the scores on the second test:       \n",
        "\n",
        "```   \n",
        "score_list_1 = [6, 7, 9, 11, 5, 13, 10, 8, 7, 4]\n",
        "score_list_2 = [20, 24, 27, 19, 21, 25, 21, 22, 24, 28]\n",
        "```"
      ]
    },
    {
      "cell_type": "code",
      "metadata": {
        "id": "-zx6IFX7KdKi"
      },
      "source": [
        "score_list_1 = [6, 7, 9, 11, 5, 13, 10, 8, 7, 4]\n",
        "score_list_2 = [20, 24, 27, 19, 21, 25, 21, 22, 24, 28]"
      ],
      "execution_count": null,
      "outputs": []
    },
    {
      "cell_type": "code",
      "metadata": {
        "id": "l4AEJ33iih46"
      },
      "source": [
        "# Let's define a function that adds two scores together\n",
        "def sum_scores(score_1, score_2):\n",
        "    return score_1 + score_2"
      ],
      "execution_count": null,
      "outputs": []
    },
    {
      "cell_type": "code",
      "metadata": {
        "colab": {
          "base_uri": "https://localhost:8080/"
        },
        "id": "8ZEm6BjIKdQ7",
        "outputId": "b221aaff-f3c5-47d2-a10f-aced7a426aa8"
      },
      "source": [
        "# You can now use map() to apply a function to the entire list and generate a new list\n",
        "map(sum_scores, score_list_1, score_list_2)"
      ],
      "execution_count": null,
      "outputs": [
        {
          "output_type": "execute_result",
          "data": {
            "text/plain": [
              "<map at 0x7f37ec46a5f8>"
            ]
          },
          "metadata": {
            "tags": []
          },
          "execution_count": 46
        }
      ]
    },
    {
      "cell_type": "code",
      "metadata": {
        "colab": {
          "base_uri": "https://localhost:8080/"
        },
        "id": "RD5MUyuW4aha",
        "outputId": "307226d2-887c-45eb-cef2-6a7ae25f89fc"
      },
      "source": [
        "list(map(sum_scores, score_list, score_list_2))"
      ],
      "execution_count": null,
      "outputs": [
        {
          "output_type": "execute_result",
          "data": {
            "text/plain": [
              "[26, 31, 36, 30, 26, 38, 31, 30, 31, 32]"
            ]
          },
          "metadata": {
            "tags": []
          },
          "execution_count": 47
        }
      ]
    },
    {
      "cell_type": "code",
      "metadata": {
        "colab": {
          "base_uri": "https://localhost:8080/"
        },
        "id": "L2yu0GMM839u",
        "outputId": "3c058274-1af1-4426-a5b0-dcabcabd9375"
      },
      "source": [
        "# We can use lambda functions as well \n",
        "list( map(lambda x, y: x+y, score_list_1, score_list_2) )"
      ],
      "execution_count": null,
      "outputs": [
        {
          "output_type": "execute_result",
          "data": {
            "text/plain": [
              "[26, 31, 36, 30, 26, 38, 31, 30, 31, 32]"
            ]
          },
          "metadata": {
            "tags": []
          },
          "execution_count": 56
        }
      ]
    },
    {
      "cell_type": "markdown",
      "metadata": {
        "id": "Dj4Wcbr1gLo8"
      },
      "source": [
        "**MINI CHALLENGE #4:**\n",
        "- **Write a function that takes an argument and return its cubic value**\n",
        "- **Define a list of integers ranging from -10 to 10** \n",
        "- **Apply the function to the entire list and generate a new output list** \n"
      ]
    },
    {
      "cell_type": "code",
      "metadata": {
        "id": "pqXiuFVxvU18"
      },
      "source": [
        "# Enter code here\n",
        "def cube_number(number):\n",
        "  return number ** 3\n",
        "      "
      ],
      "execution_count": null,
      "outputs": []
    },
    {
      "cell_type": "code",
      "metadata": {
        "colab": {
          "base_uri": "https://localhost:8080/"
        },
        "id": "7llLlEHunH2_",
        "outputId": "efe12fa0-811c-4a22-91d0-fd53cbdfc37e"
      },
      "source": [
        "list_1 = list(range(-10, 11))\n",
        "list_1"
      ],
      "execution_count": null,
      "outputs": [
        {
          "output_type": "execute_result",
          "data": {
            "text/plain": [
              "[-10, -9, -8, -7, -6, -5, -4, -3, -2, -1, 0, 1, 2, 3, 4, 5, 6, 7, 8, 9, 10]"
            ]
          },
          "metadata": {
            "tags": []
          },
          "execution_count": 79
        }
      ]
    },
    {
      "cell_type": "markdown",
      "metadata": {
        "id": "BtAxpyeGKGA1"
      },
      "source": [
        "# 5. FILTER     \n",
        "\"filter\" allows us to selective choose certain members in a list    \n",
        "\n",
        "**Scenario**     \n",
        "*You have a list of prices of packs of milk from different brands. Since you have a budget, you want to consider prices 50 cedis or less*\n"
      ]
    },
    {
      "cell_type": "code",
      "metadata": {
        "id": "TvqwC7Pd64Jz"
      },
      "source": [
        "price_list = [30, 63, 45, 48, 35, 55, 38, 40]"
      ],
      "execution_count": null,
      "outputs": []
    },
    {
      "cell_type": "code",
      "metadata": {
        "id": "D5LVa00JKdz0"
      },
      "source": [
        "# Now we'll define a function that returns if the price is below 50\n",
        "def select_pack(price):\n",
        "  return price <= 50 "
      ],
      "execution_count": null,
      "outputs": []
    },
    {
      "cell_type": "code",
      "metadata": {
        "colab": {
          "base_uri": "https://localhost:8080/"
        },
        "id": "gh1DvOLd73mU",
        "outputId": "147b5951-aa6a-40e2-f70b-e415b63bb856"
      },
      "source": [
        "filter(select_pack, price_list)"
      ],
      "execution_count": null,
      "outputs": [
        {
          "output_type": "execute_result",
          "data": {
            "text/plain": [
              "<filter at 0x7f37e45a3e48>"
            ]
          },
          "metadata": {
            "tags": []
          },
          "execution_count": 53
        }
      ]
    },
    {
      "cell_type": "code",
      "metadata": {
        "colab": {
          "base_uri": "https://localhost:8080/"
        },
        "id": "B5MZQRA-7-Ha",
        "outputId": "4bd940fc-7291-4f01-da0b-687bbc1bcdf6"
      },
      "source": [
        "list(filter(select_pack, price_list))"
      ],
      "execution_count": null,
      "outputs": [
        {
          "output_type": "execute_result",
          "data": {
            "text/plain": [
              "[30, 45, 48, 35, 38, 40]"
            ]
          },
          "metadata": {
            "tags": []
          },
          "execution_count": 54
        }
      ]
    },
    {
      "cell_type": "code",
      "metadata": {
        "colab": {
          "base_uri": "https://localhost:8080/"
        },
        "id": "shory4UpKd2Y",
        "outputId": "0bb3403d-3ab7-431d-e271-93cf0776055c"
      },
      "source": [
        "# We can use lambda functions to perform the same task\n",
        "list(filter(lambda x: x <= 50, price_list))"
      ],
      "execution_count": null,
      "outputs": [
        {
          "output_type": "execute_result",
          "data": {
            "text/plain": [
              "[30, 45, 48, 35, 38, 40]"
            ]
          },
          "metadata": {
            "tags": []
          },
          "execution_count": 55
        }
      ]
    },
    {
      "cell_type": "code",
      "metadata": {
        "id": "uQi17-h_hlSf"
      },
      "source": [
        "# Try finding prices less than or equal to 45\n",
        "# Enter code here\n"
      ],
      "execution_count": null,
      "outputs": []
    },
    {
      "cell_type": "markdown",
      "metadata": {
        "id": "JZIiCmyvh7EW"
      },
      "source": [
        "**MINI CHALLENGE #5:**\n",
        "- **Write a code from the user that takes in a range (upper and lower bounds) and returns a list of positive and even numbers only** \n"
      ]
    },
    {
      "cell_type": "code",
      "metadata": {
        "id": "4JDq7Y04ve0S"
      },
      "source": [
        ""
      ],
      "execution_count": null,
      "outputs": []
    }
  ]
}