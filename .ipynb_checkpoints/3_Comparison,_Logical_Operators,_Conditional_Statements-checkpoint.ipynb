{
 "cells": [
  {
   "cell_type": "markdown",
   "metadata": {
    "colab_type": "text",
    "id": "view-in-github"
   },
   "source": [
    "<a href=\"https://colab.research.google.com/github/barbara99/unicorndevelopers_python/blob/main/3_Comparison%2C_Logical_Operators%2C_Conditional_Statements.ipynb\" target=\"_parent\"><img src=\"https://colab.research.google.com/assets/colab-badge.svg\" alt=\"Open In Colab\"/></a>"
   ]
  },
  {
   "cell_type": "markdown",
   "metadata": {
    "id": "CV9YCHsGtAP5"
   },
   "source": [
    "# 1. COMPARISON OPERATORS\n"
   ]
  },
  {
   "cell_type": "code",
   "execution_count": null,
   "metadata": {
    "colab": {
     "base_uri": "https://localhost:8080/"
    },
    "id": "o9VtOcrKtCc1",
    "outputId": "1d7f7c8e-3039-41f1-bec4-dc7d3a5d86ba"
   },
   "outputs": [
    {
     "data": {
      "text/plain": [
       "True"
      ]
     },
     "execution_count": 3,
     "metadata": {
      "tags": []
     },
     "output_type": "execute_result"
    }
   ],
   "source": [
    "# Comparison Operator output could be \"True\" or \"False\"\n",
    "# Let's cover equal '==' comparison operator first\n",
    "# It's simply a question: \"Is number_of_girls equals number_of_boys or not?\"\n",
    "# \"True\" output means condition is satisfied \n",
    "# \"False\" output means Condition is not satisfied (condition is not true) \n",
    "\n",
    "number_of_females = 1000\n",
    "number_of_males = 1000\n",
    "number_of_females == number_of_males"
   ]
  },
  {
   "cell_type": "code",
   "execution_count": null,
   "metadata": {
    "colab": {
     "base_uri": "https://localhost:8080/"
    },
    "id": "l48NWuCztX5G",
    "outputId": "c18ce175-01b8-4138-f259-fbafdc976dec"
   },
   "outputs": [
    {
     "data": {
      "text/plain": [
       "True"
      ]
     },
     "execution_count": 4,
     "metadata": {
      "tags": []
     },
     "output_type": "execute_result"
    }
   ],
   "source": [
    "# Greater than or equal operator '>='\n",
    "\n",
    "number_of_females = 5000\n",
    "number_of_males = 1000\n",
    "number_of_females >= number_of_males"
   ]
  },
  {
   "cell_type": "code",
   "execution_count": null,
   "metadata": {
    "id": "RmUrcn31tY0_"
   },
   "outputs": [],
   "source": [
    "# Note that '==' is a comparison operator \n",
    "# Note that '=' is used for variable assignment (put 10 in number_of_females)\n",
    "number_of_females = 10"
   ]
  },
  {
   "cell_type": "code",
   "execution_count": null,
   "metadata": {
    "colab": {
     "base_uri": "https://localhost:8080/"
    },
    "id": "TttdgxEPtY3z",
    "outputId": "bd91cc52-e669-4cf8-d48e-fb22f1d88bae"
   },
   "outputs": [
    {
     "data": {
      "text/plain": [
       "10"
      ]
     },
     "execution_count": 6,
     "metadata": {
      "tags": []
     },
     "output_type": "execute_result"
    }
   ],
   "source": [
    "number_of_females"
   ]
  },
  {
   "cell_type": "code",
   "execution_count": null,
   "metadata": {
    "colab": {
     "base_uri": "https://localhost:8080/",
     "height": 34
    },
    "id": "9fvPnQePtY9K",
    "outputId": "cc98258c-b867-4857-a29f-1fca8efaf9e8"
   },
   "outputs": [
    {
     "data": {
      "text/plain": [
       "True"
      ]
     },
     "execution_count": 5,
     "metadata": {
      "tags": []
     },
     "output_type": "execute_result"
    }
   ],
   "source": [
    "# Comparison operators work with strings as well\n",
    "'Python' == 'Python'"
   ]
  },
  {
   "cell_type": "code",
   "execution_count": null,
   "metadata": {
    "colab": {
     "base_uri": "https://localhost:8080/",
     "height": 34
    },
    "id": "krIE9oTdtj-Q",
    "outputId": "228b22ea-197e-4160-8a1d-718c736af211"
   },
   "outputs": [
    {
     "data": {
      "text/plain": [
       "False"
      ]
     },
     "execution_count": 6,
     "metadata": {
      "tags": []
     },
     "output_type": "execute_result"
    }
   ],
   "source": [
    "# Both strings have to exactly match (lower case vs. upper case)\n",
    "'Python' == 'python'"
   ]
  },
  {
   "cell_type": "code",
   "execution_count": null,
   "metadata": {
    "colab": {
     "base_uri": "https://localhost:8080/"
    },
    "id": "WI6k596Xtlcc",
    "outputId": "7f1b9d35-c47e-42c4-dac8-b5aae9dd0506"
   },
   "outputs": [
    {
     "data": {
      "text/plain": [
       "False"
      ]
     },
     "execution_count": 8,
     "metadata": {
      "tags": []
     },
     "output_type": "execute_result"
    }
   ],
   "source": [
    "# Not equal comparison operator '!='\n",
    "\n",
    "number_of_females = 1000\n",
    "number_of_males = 1000\n",
    "number_of_females != number_of_males\n"
   ]
  },
  {
   "cell_type": "markdown",
   "metadata": {
    "id": "eNyKRJob4Xlo"
   },
   "source": [
    "**MINI CHALLENGE #1:**\n",
    "- **Without executing the code cell, What will this code generate?**\n",
    "\n",
    "```\n",
    "number_of_males = 15\n",
    "number_of_females = 10\n",
    "\n",
    "print(number_of_males == number_of_females) \n",
    "print(number_of_males != number_of_females) \n",
    "print(number_of_males > number_of_females)\n",
    "print(number_of_males < number_of_females) \n",
    "```\n"
   ]
  },
  {
   "cell_type": "code",
   "execution_count": null,
   "metadata": {
    "id": "-vRyMcIhlVPg"
   },
   "outputs": [],
   "source": []
  },
  {
   "cell_type": "markdown",
   "metadata": {
    "id": "4ElLliXmvffI"
   },
   "source": [
    "# 2. LOGICAL OPERATORS"
   ]
  },
  {
   "cell_type": "code",
   "execution_count": null,
   "metadata": {
    "colab": {
     "base_uri": "https://localhost:8080/"
    },
    "id": "DZ4lIrr9viXb",
    "outputId": "29ce8300-a633-429d-89b0-b72e78c5fc15"
   },
   "outputs": [
    {
     "data": {
      "text/plain": [
       "True"
      ]
     },
     "execution_count": 9,
     "metadata": {
      "tags": []
     },
     "output_type": "execute_result"
    }
   ],
   "source": [
    "# For \"and\" logical operators, both arguments must be \"True\" in order for the output to be \"True\" \n",
    "# (Note that this is the only case in which the 'and' logical operator generates a True output)\n",
    "# 1 and 1 = 1\n",
    "True and True "
   ]
  },
  {
   "cell_type": "code",
   "execution_count": null,
   "metadata": {
    "colab": {
     "base_uri": "https://localhost:8080/"
    },
    "id": "tBllQqO2vxPe",
    "outputId": "721f097c-0e8a-4edd-e513-adae5869d70b"
   },
   "outputs": [
    {
     "data": {
      "text/plain": [
       "False"
      ]
     },
     "execution_count": 10,
     "metadata": {
      "tags": []
     },
     "output_type": "execute_result"
    }
   ],
   "source": [
    "# 0 and 1 = 0\n",
    "False and True "
   ]
  },
  {
   "cell_type": "code",
   "execution_count": null,
   "metadata": {
    "colab": {
     "base_uri": "https://localhost:8080/"
    },
    "id": "ebgLEPrQvy1h",
    "outputId": "297ae8e8-5c37-4312-eb60-75eb79be1c4a"
   },
   "outputs": [
    {
     "data": {
      "text/plain": [
       "False"
      ]
     },
     "execution_count": 11,
     "metadata": {
      "tags": []
     },
     "output_type": "execute_result"
    }
   ],
   "source": [
    "# 0 and 0 = 0\n",
    "False and False "
   ]
  },
  {
   "cell_type": "code",
   "execution_count": null,
   "metadata": {
    "colab": {
     "base_uri": "https://localhost:8080/"
    },
    "id": "Y_FB6C6yvzqb",
    "outputId": "86b8b977-0305-4fe7-f365-605c39cd68e3"
   },
   "outputs": [
    {
     "data": {
      "text/plain": [
       "True"
      ]
     },
     "execution_count": 12,
     "metadata": {
      "tags": []
     },
     "output_type": "execute_result"
    }
   ],
   "source": [
    "# For \"or\" logical operators, if any one of the arguments is \"True\", the output will be \"True\" \n",
    "# 1 or 1 = 1\n",
    "True or True "
   ]
  },
  {
   "cell_type": "code",
   "execution_count": null,
   "metadata": {
    "colab": {
     "base_uri": "https://localhost:8080/"
    },
    "id": "kiy1MhGrvzu9",
    "outputId": "90a9e73c-2265-4368-d9ed-dba206a860bf"
   },
   "outputs": [
    {
     "data": {
      "text/plain": [
       "True"
      ]
     },
     "execution_count": 13,
     "metadata": {
      "tags": []
     },
     "output_type": "execute_result"
    }
   ],
   "source": [
    "# 1 or 0 = 1\n",
    "True or False "
   ]
  },
  {
   "cell_type": "code",
   "execution_count": null,
   "metadata": {
    "colab": {
     "base_uri": "https://localhost:8080/"
    },
    "id": "S9Zo0wWovz2j",
    "outputId": "9da30947-8682-4c0d-8d4f-899f54d25ae0"
   },
   "outputs": [
    {
     "data": {
      "text/plain": [
       "True"
      ]
     },
     "execution_count": 14,
     "metadata": {
      "tags": []
     },
     "output_type": "execute_result"
    }
   ],
   "source": [
    "# 0 or 1 = 1\n",
    "False or True "
   ]
  },
  {
   "cell_type": "code",
   "execution_count": null,
   "metadata": {
    "colab": {
     "base_uri": "https://localhost:8080/"
    },
    "id": "Tu1BB3FAvz8-",
    "outputId": "578b405e-7d43-49a7-8ecd-fb2bac25ce68"
   },
   "outputs": [
    {
     "data": {
      "text/plain": [
       "False"
      ]
     },
     "execution_count": 15,
     "metadata": {
      "tags": []
     },
     "output_type": "execute_result"
    }
   ],
   "source": [
    "# 0 or 0 = 0 (Note that this is the only case in which the 'or' logical operator generates a False output)\n",
    "False or False "
   ]
  },
  {
   "cell_type": "code",
   "execution_count": null,
   "metadata": {
    "colab": {
     "base_uri": "https://localhost:8080/"
    },
    "id": "KC9ArCvsvz7J",
    "outputId": "56061c93-96f8-489e-e64d-301ee1d63934"
   },
   "outputs": [
    {
     "data": {
      "text/plain": [
       "False"
      ]
     },
     "execution_count": 16,
     "metadata": {
      "tags": []
     },
     "output_type": "execute_result"
    }
   ],
   "source": [
    " # True and False = False \n",
    "(10>3) and (9==3)"
   ]
  },
  {
   "cell_type": "code",
   "execution_count": null,
   "metadata": {
    "colab": {
     "base_uri": "https://localhost:8080/"
    },
    "id": "1kVyRF3Avz5V",
    "outputId": "bbc61d94-0469-4104-8f72-d8f1aae62345"
   },
   "outputs": [
    {
     "data": {
      "text/plain": [
       "True"
      ]
     },
     "execution_count": 17,
     "metadata": {
      "tags": []
     },
     "output_type": "execute_result"
    }
   ],
   "source": [
    "# True or False = True\n",
    "(9>3) or (12==10) "
   ]
  },
  {
   "cell_type": "markdown",
   "metadata": {
    "id": "vjvXsd7ezN4y"
   },
   "source": [
    "**MINI CHALLENGE #2:**\n",
    "- **Without executing the code cell, What will these two lines of code generate?**\n",
    "\n",
    "```\n",
    "print('PYTHON'!='PYTHON' and (10 > 3) and (20 == 20)) \n",
    "```\n",
    "\n",
    "```\n",
    "print('Python'!='PYTHON' or (16 > 20) or (25 == 25)) \n",
    "```\n"
   ]
  },
  {
   "cell_type": "code",
   "execution_count": null,
   "metadata": {
    "id": "4u7cWLq15VZt"
   },
   "outputs": [],
   "source": []
  },
  {
   "cell_type": "markdown",
   "metadata": {
    "id": "GVMXs0iZ0xJp"
   },
   "source": [
    "**MINI CHALLENGE #3:**\n",
    "- **Without executing the code cell, What will these two lines of code generate?**\n",
    "\n",
    "```\n",
    "a = 5\n",
    "b = 3.5\n",
    "\n",
    "print(a == b or a != b) \n",
    "print(a == b and a != b) \n",
    "```\n",
    "\n"
   ]
  },
  {
   "cell_type": "code",
   "execution_count": null,
   "metadata": {
    "id": "xA9pXas-5WJB"
   },
   "outputs": [],
   "source": []
  },
  {
   "cell_type": "markdown",
   "metadata": {
    "id": "STR2UADaxtHC"
   },
   "source": [
    "# 3. CONDITIONAL STATEMENTS"
   ]
  },
  {
   "cell_type": "markdown",
   "metadata": {
    "id": "uY__uNx0MddW"
   },
   "source": [
    "- A simple if-else statement is written in Python as follows:\n",
    "\n",
    "```\n",
    "if condition:\n",
    "  statement #1\n",
    "else:\n",
    "  statement #2\n",
    "```\n",
    "\n",
    "- If the condition is true, execute the first indented statement\n",
    "- if the condition is not true, then execute the else indented statements. \n",
    "- Note that Python uses indentation (whitespace) to indicate code sections and scope."
   ]
  },
  {
   "cell_type": "code",
   "execution_count": null,
   "metadata": {
    "colab": {
     "base_uri": "https://localhost:8080/",
     "height": 34
    },
    "id": "9iiHeyl_xvte",
    "outputId": "e045b072-2110-4271-9dbb-7432d10d4a89"
   },
   "outputs": [
    {
     "name": "stdout",
     "output_type": "stream",
     "text": [
      "If condition is True\n"
     ]
    }
   ],
   "source": [
    "if 10 > 9:\n",
    "    print('If condition is True')\n",
    "else:\n",
    "    print('If condition is False')"
   ]
  },
  {
   "cell_type": "code",
   "execution_count": null,
   "metadata": {
    "colab": {
     "base_uri": "https://localhost:8080/",
     "height": 34
    },
    "id": "M05mmLIWxzCP",
    "outputId": "2f07ebf2-b3fb-46c9-c269-5c27ef1a0815"
   },
   "outputs": [
    {
     "name": "stdout",
     "output_type": "stream",
     "text": [
      "If condition is False\n"
     ]
    }
   ],
   "source": [
    "if 5 == 10:\n",
    "    print('If condition is True')\n",
    "else:\n",
    "    print('If condition is False')"
   ]
  },
  {
   "cell_type": "code",
   "execution_count": null,
   "metadata": {
    "colab": {
     "base_uri": "https://localhost:8080/",
     "height": 34
    },
    "id": "4i8g3ORFxzFn",
    "outputId": "ec4d5118-81f0-4ae2-9bd9-867ffa3a524f"
   },
   "outputs": [
    {
     "name": "stdout",
     "output_type": "stream",
     "text": [
      "Last statement is true\n"
     ]
    }
   ],
   "source": [
    "if 5 == 7:\n",
    "    print('First statement is true')\n",
    "elif 2 == 4:\n",
    "    print('Second statement is true')\n",
    "else:\n",
    "    print('Last statement is true')"
   ]
  },
  {
   "cell_type": "code",
   "execution_count": null,
   "metadata": {
    "colab": {
     "base_uri": "https://localhost:8080/",
     "height": 34
    },
    "id": "cZKbXTtVxzAG",
    "outputId": "b5081f6a-889d-48ad-ae57-a036871f709d"
   },
   "outputs": [
    {
     "name": "stdout",
     "output_type": "stream",
     "text": [
      "First statement is true\n"
     ]
    }
   ],
   "source": [
    "if 5 < 7:\n",
    "    print('First statement is true')\n",
    "elif 2 > 4:\n",
    "    print('Second statement is true')\n",
    "else:\n",
    "    print('Last statement is true')"
   ]
  },
  {
   "cell_type": "code",
   "execution_count": null,
   "metadata": {
    "colab": {
     "base_uri": "https://localhost:8080/",
     "height": 50
    },
    "id": "qXCMo76Wxy95",
    "outputId": "fc77051c-21a1-4a1e-8868-662b649c1038"
   },
   "outputs": [
    {
     "name": "stdout",
     "output_type": "stream",
     "text": [
      "Enter your username:Barbara\n",
      "Access Denied\n"
     ]
    }
   ],
   "source": [
    "# Let's take an input from the user and grant or deny access accordingly\n",
    "name = input('Enter your username:')\n",
    "\n",
    "if name == 'Ryan':\n",
    "    print(\"Access granted\")\n",
    "else:\n",
    "    print(\"Access Denied\")"
   ]
  },
  {
   "cell_type": "code",
   "execution_count": null,
   "metadata": {
    "colab": {
     "base_uri": "https://localhost:8080/",
     "height": 50
    },
    "id": "mgZaUUxhxy75",
    "outputId": "5dae63c1-8889-46f7-a9d5-0c0081d735bd"
   },
   "outputs": [
    {
     "name": "stdout",
     "output_type": "stream",
     "text": [
      "Enter your username:Ryan\n",
      "Access granted\n"
     ]
    }
   ],
   "source": [
    "# Let's make the code more robust (case insensitive)\n",
    "name = input('Enter your username:')\n",
    "\n",
    "if name == 'Ryan' or name =='RYAN' or name =='ryan':\n",
    "    print(\"Access granted\")\n",
    "else:\n",
    "    print(\"Access Denied\")\n"
   ]
  },
  {
   "cell_type": "markdown",
   "metadata": {
    "id": "E9b_qCZ12Baz"
   },
   "source": [
    "**MINI CHALLENGE #4:**\n",
    "- **Write a code that takes a number from the user and indicates if it's positive or negative**"
   ]
  },
  {
   "cell_type": "code",
   "execution_count": null,
   "metadata": {
    "id": "I4-RpDvp2kHG"
   },
   "outputs": [],
   "source": []
  },
  {
   "cell_type": "markdown",
   "metadata": {
    "id": "OnJwHMUe2Ztp"
   },
   "source": [
    "**MINI CHALLENGE #5:**\n",
    "- **Write a code that takes a number from the user and checks if the number is divisible by 3 but is not a multiple of 7**"
   ]
  },
  {
   "cell_type": "code",
   "execution_count": null,
   "metadata": {
    "id": "KHv409N93OjP"
   },
   "outputs": [],
   "source": []
  },
  {
   "cell_type": "markdown",
   "metadata": {
    "id": "bMs3OKSo29_D"
   },
   "source": [
    "**MINI CHALLENGE #6:** \n",
    "- **Write a code that takes a number from the user and indicate if the number is even or odd**"
   ]
  },
  {
   "cell_type": "code",
   "execution_count": null,
   "metadata": {
    "id": "RaDyZQqC28Ya"
   },
   "outputs": [],
   "source": []
  }
 ],
 "metadata": {
  "colab": {
   "collapsed_sections": [],
   "include_colab_link": true,
   "name": "3. Comparison, Logical Operators, Conditional Statements.ipynb",
   "provenance": []
  },
  "kernelspec": {
   "display_name": "Python 3",
   "language": "python",
   "name": "python3"
  },
  "language_info": {
   "codemirror_mode": {
    "name": "ipython",
    "version": 3
   },
   "file_extension": ".py",
   "mimetype": "text/x-python",
   "name": "python",
   "nbconvert_exporter": "python",
   "pygments_lexer": "ipython3",
   "version": "3.7.6"
  }
 },
 "nbformat": 4,
 "nbformat_minor": 1
}
