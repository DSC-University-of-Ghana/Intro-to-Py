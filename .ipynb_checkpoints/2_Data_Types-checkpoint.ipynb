{
 "cells": [
  {
   "cell_type": "markdown",
   "metadata": {
    "colab_type": "text",
    "id": "view-in-github"
   },
   "source": [
    "<a href=\"https://colab.research.google.com/github/barbara99/unicorndevelopers_python/blob/main/2_Data_Types.ipynb\" target=\"_parent\"><img src=\"https://colab.research.google.com/assets/colab-badge.svg\" alt=\"Open In Colab\"/></a>"
   ]
  },
  {
   "cell_type": "markdown",
   "metadata": {
    "id": "jAvAN1PiB8bc"
   },
   "source": [
    "# 1. BOOLEANS"
   ]
  },
  {
   "cell_type": "code",
   "execution_count": 1,
   "metadata": {
    "colab": {
     "base_uri": "https://localhost:8080/",
     "height": 34
    },
    "id": "nQxJN0ShB_Ae",
    "outputId": "bf8cdee5-98c6-4d9a-f807-42e564f5f9e1"
   },
   "outputs": [
    {
     "data": {
      "text/plain": [
       "True"
      ]
     },
     "execution_count": 1,
     "metadata": {},
     "output_type": "execute_result"
    }
   ],
   "source": [
    "# Boolean values can be represented as one of two constant objects \"False\" and \"True\". \n",
    "# Booleans behave like integers 0 and 1.\n",
    "True"
   ]
  },
  {
   "cell_type": "code",
   "execution_count": 2,
   "metadata": {
    "colab": {
     "base_uri": "https://localhost:8080/",
     "height": 34
    },
    "id": "MWOLRKg-B_D6",
    "outputId": "6c914608-4f5b-46ca-99c2-d031fa8f5244"
   },
   "outputs": [
    {
     "data": {
      "text/plain": [
       "False"
      ]
     },
     "execution_count": 2,
     "metadata": {},
     "output_type": "execute_result"
    }
   ],
   "source": [
    "False"
   ]
  },
  {
   "cell_type": "code",
   "execution_count": 3,
   "metadata": {
    "colab": {
     "base_uri": "https://localhost:8080/",
     "height": 34
    },
    "id": "oDfoK28ZB_SO",
    "outputId": "47f6de9f-af8d-405e-97fa-940d9195de69"
   },
   "outputs": [
    {
     "name": "stdout",
     "output_type": "stream",
     "text": [
      "False\n"
     ]
    }
   ],
   "source": [
    "number_of_goats = 100\n",
    "number_of_sheep = 200\n",
    "\n",
    "print(number_of_goats == number_of_sheep)"
   ]
  },
  {
   "cell_type": "code",
   "execution_count": 4,
   "metadata": {},
   "outputs": [
    {
     "name": "stdout",
     "output_type": "stream",
     "text": [
      "False\n"
     ]
    }
   ],
   "source": [
    "print(2==3)"
   ]
  },
  {
   "cell_type": "markdown",
   "metadata": {
    "id": "zK3GTZaCFwNt"
   },
   "source": [
    "**MINI CHALLENGE #1:** \n",
    "- **What will this code generate?**\n",
    "```\n",
    "number_of_pens = 20\n",
    "number_of_bicycles = 30\n",
    "print((number_of_pens < number_of_bicycles))\n",
    "print(number_of_pens == number_of_bicycles)\n",
    "```"
   ]
  },
  {
   "cell_type": "code",
   "execution_count": null,
   "metadata": {
    "id": "Fk7waP-xUtan"
   },
   "outputs": [],
   "source": []
  },
  {
   "cell_type": "markdown",
   "metadata": {
    "id": "_5r-dUNX7nfy"
   },
   "source": [
    "# 2. LIST"
   ]
  },
  {
   "cell_type": "code",
   "execution_count": 5,
   "metadata": {
    "colab": {
     "base_uri": "https://localhost:8080/",
     "height": 34
    },
    "id": "F27HZd8a60zD",
    "outputId": "3b29ee20-b459-4d57-8269-95d6bb7a0f79"
   },
   "outputs": [
    {
     "data": {
      "text/plain": [
       "[1, 2, 3]"
      ]
     },
     "execution_count": 5,
     "metadata": {},
     "output_type": "execute_result"
    }
   ],
   "source": [
    "# A list is a collection which is ordered and changeable. \n",
    "# List allows duplicate members.\n",
    "my_list = [1, 2, 3]\n",
    "my_list"
   ]
  },
  {
   "cell_type": "code",
   "execution_count": 6,
   "metadata": {
    "colab": {
     "base_uri": "https://localhost:8080/",
     "height": 34
    },
    "id": "AeHE6akU70RX",
    "outputId": "da9d46f0-32c4-4de4-cee3-843fd6237f56"
   },
   "outputs": [
    {
     "data": {
      "text/plain": [
       "list"
      ]
     },
     "execution_count": 6,
     "metadata": {},
     "output_type": "execute_result"
    }
   ],
   "source": [
    "# Obtain the datatype\n",
    "type(my_list)"
   ]
  },
  {
   "cell_type": "code",
   "execution_count": 7,
   "metadata": {
    "colab": {
     "base_uri": "https://localhost:8080/"
    },
    "id": "qaiXmQs570Vv",
    "outputId": "df89cfb4-68fc-4d1f-a5e8-7723ef4fc6d5"
   },
   "outputs": [
    {
     "data": {
      "text/plain": [
       "[2, 'NAME', 5]"
      ]
     },
     "execution_count": 7,
     "metadata": {},
     "output_type": "execute_result"
    }
   ],
   "source": [
    "# list with mixed datatypes (for example you can have strings and integers in one list)\n",
    "my_list = [2, \"NAME\", 5]\n",
    "my_list"
   ]
  },
  {
   "cell_type": "code",
   "execution_count": 8,
   "metadata": {
    "colab": {
     "base_uri": "https://localhost:8080/"
    },
    "id": "PNJjE3qX70YR",
    "outputId": "40b17ec4-0fdf-429f-971c-09714f634e25"
   },
   "outputs": [
    {
     "data": {
      "text/plain": [
       "['NAME', [3, 6, 7]]"
      ]
     },
     "execution_count": 8,
     "metadata": {},
     "output_type": "execute_result"
    }
   ],
   "source": [
    "# You can have a list inside another list (nested list)\n",
    "my_list = [\"NAME\", [3, 6, 7]]\n",
    "my_list"
   ]
  },
  {
   "cell_type": "code",
   "execution_count": 9,
   "metadata": {
    "colab": {
     "base_uri": "https://localhost:8080/",
     "height": 35
    },
    "id": "XZZiMb2c70f6",
    "outputId": "a1eb1036-c273-4c37-dbe3-86cdd671dbb7"
   },
   "outputs": [
    {
     "data": {
      "text/plain": [
       "'NAME'"
      ]
     },
     "execution_count": 9,
     "metadata": {},
     "output_type": "execute_result"
    }
   ],
   "source": [
    "# Access specific elements in the list with Indexing\n",
    "# Note that the first element in the list has an index of 0 (little confusing but you'll get used to it!)\n",
    "my_list = [2, \"NAME\", 5]\n",
    "my_list[1]"
   ]
  },
  {
   "cell_type": "code",
   "execution_count": 10,
   "metadata": {
    "colab": {
     "base_uri": "https://localhost:8080/",
     "height": 35
    },
    "id": "I6z3Ls6R70iU",
    "outputId": "8458a22f-d0e9-4617-b3d2-221bb796696c"
   },
   "outputs": [
    {
     "data": {
      "text/plain": [
       "'AGE'"
      ]
     },
     "execution_count": 10,
     "metadata": {},
     "output_type": "execute_result"
    }
   ],
   "source": [
    "# indexing for nested lists\n",
    "my_list = [\"NAME\", [3, 6, 7], [\"AGE\", 5, 6]]\n",
    "my_list[2][0]\n"
   ]
  },
  {
   "cell_type": "code",
   "execution_count": 11,
   "metadata": {
    "colab": {
     "base_uri": "https://localhost:8080/",
     "height": 34
    },
    "id": "5Bx9hZPc70o4",
    "outputId": "a74a4add-9204-4d8a-fdfa-01f06e400942"
   },
   "outputs": [
    {
     "name": "stdout",
     "output_type": "stream",
     "text": [
      "6\n"
     ]
    }
   ],
   "source": [
    "print(my_list[1][1])"
   ]
  },
  {
   "cell_type": "code",
   "execution_count": 12,
   "metadata": {
    "colab": {
     "base_uri": "https://localhost:8080/",
     "height": 34
    },
    "id": "hEHd__Zr70nj",
    "outputId": "b87ca66f-7afe-4a47-aca0-a15ec43f61d4"
   },
   "outputs": [
    {
     "name": "stdout",
     "output_type": "stream",
     "text": [
      "['AGE', 5, 6]\n"
     ]
    }
   ],
   "source": [
    "print(my_list[2])"
   ]
  },
  {
   "cell_type": "code",
   "execution_count": 13,
   "metadata": {
    "colab": {
     "base_uri": "https://localhost:8080/"
    },
    "id": "4KVMQSCO70lg",
    "outputId": "2cc6047f-13d7-4e7d-c51b-d39a53f363f3"
   },
   "outputs": [
    {
     "name": "stdout",
     "output_type": "stream",
     "text": [
      "NAME\n"
     ]
    }
   ],
   "source": [
    "# Negative Indexing\n",
    "my_list = [2, \"NAME\", 5]\n",
    "print(my_list[-2])\n"
   ]
  },
  {
   "cell_type": "code",
   "execution_count": 14,
   "metadata": {
    "colab": {
     "base_uri": "https://localhost:8080/"
    },
    "id": "-Bw1wI_h70dw",
    "outputId": "6c628d7f-4e36-43d6-c485-60a55260b21b"
   },
   "outputs": [
    {
     "name": "stdout",
     "output_type": "stream",
     "text": [
      "['NAME', 'AGE', 'SEX']\n"
     ]
    }
   ],
   "source": [
    "# List Slicing (getting more than one element from a list) \n",
    "my_list = [2, 5, 7, \"NAME\", \"AGE\", \"SEX\", 15]\n",
    "\n",
    "# obtain elements starting from index 3 up to and not including element with index 6  \n",
    "print(my_list[3:6])"
   ]
  },
  {
   "cell_type": "code",
   "execution_count": 15,
   "metadata": {
    "colab": {
     "base_uri": "https://localhost:8080/"
    },
    "id": "VGsNNIpn9ILB",
    "outputId": "69ae94af-63a1-4de0-f159-25b14c684c78"
   },
   "outputs": [
    {
     "name": "stdout",
     "output_type": "stream",
     "text": [
      "['NAME', 'AGE', 'SEX', 15]\n"
     ]
    }
   ],
   "source": [
    "# Obtain elements starting from index 3 to end\n",
    "print(my_list[3:])"
   ]
  },
  {
   "cell_type": "code",
   "execution_count": 16,
   "metadata": {
    "colab": {
     "base_uri": "https://localhost:8080/"
    },
    "id": "W0Z8oCAC9IJL",
    "outputId": "07ee049a-c2a1-4b93-c416-aedb2c55f7bb"
   },
   "outputs": [
    {
     "name": "stdout",
     "output_type": "stream",
     "text": [
      "[2, 5, 7, 'NAME', 'AGE', 'SEX', 15]\n"
     ]
    }
   ],
   "source": [
    "# All elements start to end\n",
    "print(my_list[:])"
   ]
  },
  {
   "cell_type": "code",
   "execution_count": 17,
   "metadata": {
    "colab": {
     "base_uri": "https://localhost:8080/"
    },
    "id": "Z4sY6MEJ9IGv",
    "outputId": "61fd6f31-1cf8-48f8-bc90-d2f151e947d2"
   },
   "outputs": [
    {
     "data": {
      "text/plain": [
       "7"
      ]
     },
     "execution_count": 17,
     "metadata": {},
     "output_type": "execute_result"
    }
   ],
   "source": [
    "# Obtain the length of the list (how many elements in the list) \n",
    "len(my_list)"
   ]
  },
  {
   "cell_type": "markdown",
   "metadata": {
    "id": "Q1qcVBl7G1GO"
   },
   "source": [
    "**MINI CHALLENGE #2:**\n",
    "- **Print the first, second and last element in the list below**\n",
    "- **Print all elements in the list, first 3 elements, and last three elements**\n",
    "\n",
    "```\n",
    "list_1 = [\"NAME\", \"AGE\", \"SEX\", \"KOFI\", \"222\", \"AMA\", \"YAW\"]\n",
    "```\n",
    "\n"
   ]
  },
  {
   "cell_type": "code",
   "execution_count": null,
   "metadata": {
    "id": "adQzmLx7Y7p7"
   },
   "outputs": [],
   "source": []
  },
  {
   "cell_type": "markdown",
   "metadata": {
    "id": "pqPdr6RNINsf"
   },
   "source": [
    "**MINI CHALLENGE #3:** \n",
    "- **Print NAME**\n",
    "- **Print AGE, NAME, KOFI** \n",
    "- **Print T with two different ways**\n",
    "\n",
    "```\n",
    "my_list = [\"KWAMI\", [\"AGE\", \"NAME\", \"KOFI\"], \"YAW\", \"T\"]\n",
    "```\n"
   ]
  },
  {
   "cell_type": "markdown",
   "metadata": {
    "id": "7a2j5iF8CYCU"
   },
   "source": [
    "# 3. DICTIONARY"
   ]
  },
  {
   "cell_type": "code",
   "execution_count": 18,
   "metadata": {
    "id": "RrxN16VRCbyz"
   },
   "outputs": [],
   "source": [
    "# my_dict = {'key1':'value1', 'key2':'value2', 'key3':'value3'}\n",
    "# Dictionary consists of a collection of key-value pairs. Each key-value pair maps the key to its corresponding value.\n",
    "# Keys are unique within a dictionary while values may not be. \n",
    "# List elements are accessed by their position in the list, via indexing while Dictionary elements are accessed via keys\n",
    "\n",
    "# Define a dictionary using key-value pairs\n",
    "my_dict = {'key1':'value1',\n",
    "           'key2':'value2', \n",
    "           'key3':'value3'}"
   ]
  },
  {
   "cell_type": "code",
   "execution_count": 19,
   "metadata": {
    "colab": {
     "base_uri": "https://localhost:8080/"
    },
    "id": "dToa9hHWCcO5",
    "outputId": "0a0e6b64-690e-42e8-aec3-11aed11a567a"
   },
   "outputs": [
    {
     "data": {
      "text/plain": [
       "{'key1': 'value1', 'key2': 'value2', 'key3': 'value3'}"
      ]
     },
     "execution_count": 19,
     "metadata": {},
     "output_type": "execute_result"
    }
   ],
   "source": [
    "# View the dictionary\n",
    "my_dict"
   ]
  },
  {
   "cell_type": "code",
   "execution_count": 20,
   "metadata": {
    "colab": {
     "base_uri": "https://localhost:8080/"
    },
    "id": "KczBnCdmCcA5",
    "outputId": "ded46c19-a103-4d3b-b84f-d5b32c9db13e"
   },
   "outputs": [
    {
     "data": {
      "text/plain": [
       "dict"
      ]
     },
     "execution_count": 20,
     "metadata": {},
     "output_type": "execute_result"
    }
   ],
   "source": [
    "# Check the data type\n",
    "type(my_dict)"
   ]
  },
  {
   "cell_type": "code",
   "execution_count": 21,
   "metadata": {
    "colab": {
     "base_uri": "https://localhost:8080/",
     "height": 35
    },
    "id": "dThsTYeaCb-l",
    "outputId": "c934761b-4808-4c3b-e4d8-6548346d87c7"
   },
   "outputs": [
    {
     "data": {
      "text/plain": [
       "'value2'"
      ]
     },
     "execution_count": 21,
     "metadata": {},
     "output_type": "execute_result"
    }
   ],
   "source": [
    "# Access specific element in the dictionary using a specific key (ex: Key2)\n",
    "my_dict['key2']"
   ]
  },
  {
   "cell_type": "code",
   "execution_count": 22,
   "metadata": {
    "colab": {
     "base_uri": "https://localhost:8080/"
    },
    "id": "Li70lw0jCb87",
    "outputId": "1956f0ba-047c-4fd5-8599-ec390d487f77"
   },
   "outputs": [
    {
     "name": "stdout",
     "output_type": "stream",
     "text": [
      "{'KOFI': 150000, 'AMA': 10000, 'SAMUEL': 20000}\n"
     ]
    }
   ],
   "source": [
    "# Define a dictionary for a bank client listing all his/her assets! \n",
    "school_fees = {\"KOFI\": 150000,\n",
    "                \"AMA\": 10000,\n",
    "                \"SAMUEL\": 20000}\n",
    "\n",
    "print(school_fees)"
   ]
  },
  {
   "cell_type": "code",
   "execution_count": 23,
   "metadata": {
    "colab": {
     "base_uri": "https://localhost:8080/"
    },
    "id": "G_I_rJsWCb6E",
    "outputId": "5ce98a3b-9dba-4134-aa94-344e2de07688"
   },
   "outputs": [
    {
     "data": {
      "text/plain": [
       "10000"
      ]
     },
     "execution_count": 23,
     "metadata": {},
     "output_type": "execute_result"
    }
   ],
   "source": [
    "# Access elements in the dictionary\n",
    "school_fees[\"AMA\"]"
   ]
  },
  {
   "cell_type": "code",
   "execution_count": 24,
   "metadata": {
    "colab": {
     "base_uri": "https://localhost:8080/"
    },
    "id": "1DigIhEQCb3x",
    "outputId": "9b4c639e-32be-4b5a-9e49-1f01a405fb45"
   },
   "outputs": [
    {
     "name": "stdout",
     "output_type": "stream",
     "text": [
      "{'KOFI': 150000, 'AMA': 10000, 'SAMUEL': 20000, 'Barbara': 1500}\n"
     ]
    }
   ],
   "source": [
    "# Add a new item to an existing dictionary\n",
    "school_fees[\"Barbara\"] = 1500\n",
    "print(school_fees)"
   ]
  },
  {
   "cell_type": "code",
   "execution_count": 25,
   "metadata": {
    "colab": {
     "base_uri": "https://localhost:8080/"
    },
    "id": "m05N8LIiCb0_",
    "outputId": "f366106c-8783-4fa9-cd4a-ee7968d38937"
   },
   "outputs": [
    {
     "name": "stdout",
     "output_type": "stream",
     "text": [
      "{'KOFI': 150000, 'AMA': 10000, 'Barbara': 1500}\n"
     ]
    }
   ],
   "source": [
    "# remove an item from the dictionary\n",
    "del school_fees[\"SAMUEL\"]\n",
    "print(school_fees)"
   ]
  },
  {
   "cell_type": "code",
   "execution_count": 26,
   "metadata": {
    "colab": {
     "base_uri": "https://localhost:8080/",
     "height": 195
    },
    "id": "c4GKclEzCoMe",
    "outputId": "d075bc4d-c3ed-4daa-aacf-990a2d5f7bc6"
   },
   "outputs": [
    {
     "ename": "NameError",
     "evalue": "name 'school_fees' is not defined",
     "output_type": "error",
     "traceback": [
      "\u001b[1;31m---------------------------------------------------------------------------\u001b[0m",
      "\u001b[1;31mNameError\u001b[0m                                 Traceback (most recent call last)",
      "\u001b[1;32m<ipython-input-26-16023a350ca7>\u001b[0m in \u001b[0;36m<module>\u001b[1;34m\u001b[0m\n\u001b[0;32m      2\u001b[0m \u001b[1;31m# Note that you cannot print it out again because the entire dictionary has been deleted\u001b[0m\u001b[1;33m\u001b[0m\u001b[1;33m\u001b[0m\u001b[1;33m\u001b[0m\u001b[0m\n\u001b[0;32m      3\u001b[0m \u001b[1;32mdel\u001b[0m \u001b[0mschool_fees\u001b[0m\u001b[1;33m\u001b[0m\u001b[1;33m\u001b[0m\u001b[0m\n\u001b[1;32m----> 4\u001b[1;33m \u001b[0mprint\u001b[0m\u001b[1;33m(\u001b[0m\u001b[0mschool_fees\u001b[0m\u001b[1;33m)\u001b[0m\u001b[1;33m\u001b[0m\u001b[1;33m\u001b[0m\u001b[0m\n\u001b[0m",
      "\u001b[1;31mNameError\u001b[0m: name 'school_fees' is not defined"
     ]
    }
   ],
   "source": [
    "# delete the entire dictionary\n",
    "# Note that you cannot print it out again because the entire dictionary has been deleted\n",
    "del school_fees\n",
    "print(school_fees)"
   ]
  },
  {
   "cell_type": "markdown",
   "metadata": {
    "id": "9llozT9XLiqI"
   },
   "source": [
    "**MINI CHALLENGE #4:**\n",
    "- **Create a dictionary with 6 of your favourite items and their prices** \n"
   ]
  },
  {
   "cell_type": "code",
   "execution_count": null,
   "metadata": {
    "id": "KHOBUBNeKDXr"
   },
   "outputs": [],
   "source": []
  },
  {
   "cell_type": "markdown",
   "metadata": {
    "id": "6kLIKQOZ6rNe"
   },
   "source": [
    "# 4. STRINGS"
   ]
  },
  {
   "cell_type": "code",
   "execution_count": 27,
   "metadata": {
    "colab": {
     "base_uri": "https://localhost:8080/",
     "height": 35
    },
    "id": "rDjVcbLd6xJf",
    "outputId": "4d989964-5708-41d9-c787-282d1abcd094"
   },
   "outputs": [
    {
     "data": {
      "text/plain": [
       "'Hello Everyone and Welcome to Python towards data science track!'"
      ]
     },
     "execution_count": 27,
     "metadata": {},
     "output_type": "execute_result"
    }
   ],
   "source": [
    "# A string in Python is a sequence of characters\n",
    "# String can be enclosed by either double or single quotes\n",
    "my_string = \"Hello Everyone and Welcome to Python towards data science track!\"\n",
    "my_string"
   ]
  },
  {
   "cell_type": "code",
   "execution_count": 28,
   "metadata": {
    "colab": {
     "base_uri": "https://localhost:8080/"
    },
    "id": "_UN8zNOJ60ud",
    "outputId": "78c94be1-ba76-4ef4-a9b9-5fd2dd3e8480"
   },
   "outputs": [
    {
     "data": {
      "text/plain": [
       "str"
      ]
     },
     "execution_count": 28,
     "metadata": {},
     "output_type": "execute_result"
    }
   ],
   "source": [
    "# Obtain the datatype\n",
    "type(my_string)"
   ]
  },
  {
   "cell_type": "code",
   "execution_count": 29,
   "metadata": {
    "colab": {
     "base_uri": "https://localhost:8080/",
     "height": 35
    },
    "id": "2r3aHdjn60wz",
    "outputId": "5c425256-98ac-450e-ffb2-97a4109d1f35"
   },
   "outputs": [
    {
     "data": {
      "text/plain": [
       "'BarbaraAsiamah'"
      ]
     },
     "execution_count": 29,
     "metadata": {},
     "output_type": "execute_result"
    }
   ],
   "source": [
    "# Combining two strings together (Let's combine the first and last name of a student)\n",
    "first_name = \"Barbara\" \n",
    "last_name = \"Asiamah\"\n",
    "full_name = first_name + last_name\n",
    "full_name"
   ]
  },
  {
   "cell_type": "code",
   "execution_count": 30,
   "metadata": {
    "colab": {
     "base_uri": "https://localhost:8080/",
     "height": 35
    },
    "id": "8DZ5JbeX601H",
    "outputId": "8258e210-892e-4e14-bc6f-af0bdbfbf60a"
   },
   "outputs": [
    {
     "data": {
      "text/plain": [
       "'Barbara Asiamah'"
      ]
     },
     "execution_count": 30,
     "metadata": {},
     "output_type": "execute_result"
    }
   ],
   "source": [
    "# You can combine both strings together and add spaces in between\n",
    "full_name = first_name + \" \" + last_name\n",
    "full_name"
   ]
  },
  {
   "cell_type": "code",
   "execution_count": 31,
   "metadata": {
    "colab": {
     "base_uri": "https://localhost:8080/",
     "height": 35
    },
    "id": "zOIOaPKf603q",
    "outputId": "3e41a322-c3fc-4fb1-f279-4df3b16dffd0"
   },
   "outputs": [
    {
     "data": {
      "text/plain": [
       "'HELLO EVERYONE AND WELCOME TO PYTHON TOWARDS DATA SCIENCE TRACK!'"
      ]
     },
     "execution_count": 31,
     "metadata": {},
     "output_type": "execute_result"
    }
   ],
   "source": [
    "# Methods on strings \n",
    "# upper will be used to convert the string into upper case\n",
    "my_string.upper()"
   ]
  },
  {
   "cell_type": "code",
   "execution_count": 32,
   "metadata": {
    "colab": {
     "base_uri": "https://localhost:8080/"
    },
    "id": "cX2lIPy-606m",
    "outputId": "f4858f47-1b38-4c19-d1c5-9edf63489297"
   },
   "outputs": [
    {
     "data": {
      "text/plain": [
       "['Hello',\n",
       " 'Everyone',\n",
       " 'and',\n",
       " 'Welcome',\n",
       " 'to',\n",
       " 'Python',\n",
       " 'towards',\n",
       " 'data',\n",
       " 'science',\n",
       " 'track!']"
      ]
     },
     "execution_count": 32,
     "metadata": {},
     "output_type": "execute_result"
    }
   ],
   "source": [
    "# Split us used to divide up the string into words \n",
    "# The output from split is a list\n",
    "x = my_string.split()\n",
    "x"
   ]
  },
  {
   "cell_type": "code",
   "execution_count": 33,
   "metadata": {
    "colab": {
     "base_uri": "https://localhost:8080/"
    },
    "id": "sL0bYlxv8PLN",
    "outputId": "af922fe3-f8fd-49e6-f942-de15c607a3a9"
   },
   "outputs": [
    {
     "data": {
      "text/plain": [
       "list"
      ]
     },
     "execution_count": 33,
     "metadata": {},
     "output_type": "execute_result"
    }
   ],
   "source": [
    "# Let's check that the datatype is list!\n",
    "type(x)"
   ]
  },
  {
   "cell_type": "code",
   "execution_count": 34,
   "metadata": {
    "colab": {
     "base_uri": "https://localhost:8080/",
     "height": 35
    },
    "id": "sMlID0mv8Udk",
    "outputId": "09a8eba2-c892-470d-bfae-476cc6bbecee"
   },
   "outputs": [
    {
     "data": {
      "text/plain": [
       "'Everyone'"
      ]
     },
     "execution_count": 34,
     "metadata": {},
     "output_type": "execute_result"
    }
   ],
   "source": [
    "# you can index any element in the list using indexing\n",
    "x[1]"
   ]
  },
  {
   "cell_type": "code",
   "execution_count": 35,
   "metadata": {
    "colab": {
     "base_uri": "https://localhost:8080/"
    },
    "id": "icNCEq2x609e",
    "outputId": "e5c9e1b1-e652-4156-e8d8-ea68506a1031"
   },
   "outputs": [
    {
     "data": {
      "text/plain": [
       "['barbaraasiamah99', 'gmail.com']"
      ]
     },
     "execution_count": 35,
     "metadata": {},
     "output_type": "execute_result"
    }
   ],
   "source": [
    "# you can specify which letter could be choosed to perform the split\n",
    "my_string = 'barbaraasiamah99@gmail.com'\n",
    "z = my_string.split('@')\n",
    "z"
   ]
  },
  {
   "cell_type": "markdown",
   "metadata": {
    "id": "9cN9W4bkM-vs"
   },
   "source": [
    "**MINI CHALLENGE #5:**\n",
    "- **Write a code that takes an input from a student asking him/her about their feedback regarding the course. The code should split the atudent input into words and print them on screen**\n"
   ]
  },
  {
   "cell_type": "code",
   "execution_count": null,
   "metadata": {
    "id": "cWKRpQ7WOSnu"
   },
   "outputs": [],
   "source": []
  },
  {
   "cell_type": "code",
   "execution_count": null,
   "metadata": {
    "id": "6C17ix5xpr4p"
   },
   "outputs": [],
   "source": []
  },
  {
   "cell_type": "markdown",
   "metadata": {
    "id": "EdyxRUooNz5m"
   },
   "source": [
    "**MINI CHALLENGE #6:**\n",
    "- **Write a code that prompts a user requesting his/her e-mail and then extracts the user first name (Note that the e-mail is in firstname.lastname@gmail.com**\n"
   ]
  },
  {
   "cell_type": "code",
   "execution_count": null,
   "metadata": {
    "id": "0P41ds4zNrKl"
   },
   "outputs": [],
   "source": []
  },
  {
   "cell_type": "markdown",
   "metadata": {
    "id": "A0luXBRqEGai"
   },
   "source": [
    "# 5. TUPLES"
   ]
  },
  {
   "cell_type": "code",
   "execution_count": 36,
   "metadata": {
    "id": "WNh06IuWENEw"
   },
   "outputs": [],
   "source": [
    "# A tuple is a sequence of immutable Python objects. \n",
    "# Tuples are sequences, just like lists. \n",
    "# The differences between tuples and lists are, the tuples cannot be changed unlike lists and tuples use parentheses, whereas lists use square brackets."
   ]
  },
  {
   "cell_type": "code",
   "execution_count": 37,
   "metadata": {
    "colab": {
     "base_uri": "https://localhost:8080/"
    },
    "id": "U0fyXOJPENDi",
    "outputId": "64bb46d4-aa51-42f0-b780-5d880d54a484"
   },
   "outputs": [
    {
     "data": {
      "text/plain": [
       "tuple"
      ]
     },
     "execution_count": 37,
     "metadata": {},
     "output_type": "execute_result"
    }
   ],
   "source": [
    "tuple_1 = ('NAME', 'AGE', 10, 15, 1992);\n",
    "tuple_2 = (450, 55, 977, 2100);\n",
    "type(tuple_1)\n"
   ]
  },
  {
   "cell_type": "code",
   "execution_count": 38,
   "metadata": {
    "colab": {
     "base_uri": "https://localhost:8080/"
    },
    "id": "STfK4bAoEM_8",
    "outputId": "960e5545-009e-42c5-ee09-6bc28abefc19"
   },
   "outputs": [
    {
     "data": {
      "text/plain": [
       "('NAME', 'AGE', 10, 15, 1992)"
      ]
     },
     "execution_count": 38,
     "metadata": {},
     "output_type": "execute_result"
    }
   ],
   "source": [
    "tuple_1"
   ]
  },
  {
   "cell_type": "code",
   "execution_count": 39,
   "metadata": {
    "colab": {
     "base_uri": "https://localhost:8080/",
     "height": 35
    },
    "id": "my6d1Ou-EM-y",
    "outputId": "3b82a855-d2f0-4d42-ce40-fcb3f5043477"
   },
   "outputs": [
    {
     "data": {
      "text/plain": [
       "'AGE'"
      ]
     },
     "execution_count": 39,
     "metadata": {},
     "output_type": "execute_result"
    }
   ],
   "source": [
    "# Accessing elements in a tuple\n",
    "tuple_1[1]"
   ]
  },
  {
   "cell_type": "code",
   "execution_count": 40,
   "metadata": {
    "colab": {
     "base_uri": "https://localhost:8080/"
    },
    "id": "IIeC1e3qEWz6",
    "outputId": "28b8fb80-83c4-46fe-e74a-f9d4821ef20e"
   },
   "outputs": [
    {
     "data": {
      "text/plain": [
       "('AGE', 10)"
      ]
     },
     "execution_count": 40,
     "metadata": {},
     "output_type": "execute_result"
    }
   ],
   "source": [
    "# Tuple slicing\n",
    "tuple_1[1:3]"
   ]
  },
  {
   "cell_type": "code",
   "execution_count": 41,
   "metadata": {
    "colab": {
     "base_uri": "https://localhost:8080/",
     "height": 195
    },
    "id": "o_yady6jEWwL",
    "outputId": "0be5decd-f2ec-4790-ac1f-78b8a75b684e"
   },
   "outputs": [
    {
     "ename": "TypeError",
     "evalue": "'tuple' object does not support item assignment",
     "output_type": "error",
     "traceback": [
      "\u001b[1;31m---------------------------------------------------------------------------\u001b[0m",
      "\u001b[1;31mTypeError\u001b[0m                                 Traceback (most recent call last)",
      "\u001b[1;32m<ipython-input-41-9f869e1dc9a7>\u001b[0m in \u001b[0;36m<module>\u001b[1;34m\u001b[0m\n\u001b[0;32m      1\u001b[0m \u001b[1;31m# Changing a value of a tuple does not work!\u001b[0m\u001b[1;33m\u001b[0m\u001b[1;33m\u001b[0m\u001b[1;33m\u001b[0m\u001b[0m\n\u001b[0;32m      2\u001b[0m \u001b[1;31m# 'tuple' object does not support item assignment\u001b[0m\u001b[1;33m\u001b[0m\u001b[1;33m\u001b[0m\u001b[1;33m\u001b[0m\u001b[0m\n\u001b[1;32m----> 3\u001b[1;33m \u001b[0mtuple_1\u001b[0m\u001b[1;33m[\u001b[0m\u001b[1;36m1\u001b[0m\u001b[1;33m]\u001b[0m \u001b[1;33m=\u001b[0m \u001b[1;36m0\u001b[0m\u001b[1;33m\u001b[0m\u001b[1;33m\u001b[0m\u001b[0m\n\u001b[0m",
      "\u001b[1;31mTypeError\u001b[0m: 'tuple' object does not support item assignment"
     ]
    }
   ],
   "source": [
    "# Changing a value of a tuple does not work! \n",
    "# 'tuple' object does not support item assignment\n",
    "tuple_1[1] = 0"
   ]
  },
  {
   "cell_type": "code",
   "execution_count": 42,
   "metadata": {
    "colab": {
     "base_uri": "https://localhost:8080/"
    },
    "id": "BCgEz7CdEWuP",
    "outputId": "1a2c0d2b-4862-4633-bd3e-6f61883ecad9"
   },
   "outputs": [
    {
     "data": {
      "text/plain": [
       "('NAME', 'AGE', 10, 15, 1992, 450, 55, 977, 2100)"
      ]
     },
     "execution_count": 42,
     "metadata": {},
     "output_type": "execute_result"
    }
   ],
   "source": [
    "# Create a New Tuple from existing Tuples\n",
    "tuple_3 = tuple_1 + tuple_2\n",
    "tuple_3"
   ]
  },
  {
   "cell_type": "markdown",
   "metadata": {
    "id": "RmZ49NcKPKII"
   },
   "source": [
    "**MINI CHALLENGE #7:**\n",
    "- **Define a tuple with your first name, last name, age and the number of friends. Find the length and type as well.**\n"
   ]
  },
  {
   "cell_type": "code",
   "execution_count": null,
   "metadata": {
    "id": "YZBTWVixwIkX"
   },
   "outputs": [],
   "source": []
  },
  {
   "cell_type": "code",
   "execution_count": null,
   "metadata": {
    "id": "xMKjCcejQtJI"
   },
   "outputs": [],
   "source": []
  },
  {
   "cell_type": "markdown",
   "metadata": {
    "id": "B7clmiIJEJF0"
   },
   "source": [
    "# 6. SETS "
   ]
  },
  {
   "cell_type": "code",
   "execution_count": 43,
   "metadata": {
    "colab": {
     "base_uri": "https://localhost:8080/"
    },
    "id": "wRAHn1SiEN2I",
    "outputId": "299c5899-9e1d-4b41-87ac-6d65ae501ec4"
   },
   "outputs": [
    {
     "name": "stdout",
     "output_type": "stream",
     "text": [
      "{'AGE', 'NAME', 'T'}\n"
     ]
    }
   ],
   "source": [
    "# A set is an unordered collection of items. Every element is unique (no duplicates).\n",
    "# A set is created by placing all the items (elements) inside curly braces {}, separated by comma or by using the built-in function set().\n",
    "# set of integers\n",
    "my_set = {'NAME', 'AGE', 'T'}\n",
    "print(my_set)\n"
   ]
  },
  {
   "cell_type": "code",
   "execution_count": 44,
   "metadata": {
    "colab": {
     "base_uri": "https://localhost:8080/"
    },
    "id": "4Y6cT3ykENzZ",
    "outputId": "0966aceb-7ba4-4a3b-d8d6-3cd722740780"
   },
   "outputs": [
    {
     "name": "stdout",
     "output_type": "stream",
     "text": [
      "{'AGE', 'NAME', 'T', 'SEX'}\n"
     ]
    }
   ],
   "source": [
    "# set do not have duplicates\n",
    "my_set = {'NAME', 'AGE', 'T','SEX','T','AGE'}\n",
    "print(my_set)"
   ]
  },
  {
   "cell_type": "markdown",
   "metadata": {
    "id": "XjibM376ROGD"
   },
   "source": [
    "**MINI CHALLENGE #8:**\n",
    "- **Remove the duplicates from the following list:**\n",
    "\n",
    "\n",
    "```\n",
    "my_list = ['NAME', 'AGE', 'T','SEX','T','AGE', 5, 6,5]\n",
    "```\n",
    "\n",
    "\n"
   ]
  },
  {
   "cell_type": "code",
   "execution_count": null,
   "metadata": {
    "id": "EpKrum8GSOuv"
   },
   "outputs": [],
   "source": []
  }
 ],
 "metadata": {
  "colab": {
   "collapsed_sections": [],
   "include_colab_link": true,
   "name": "2. Data Types.ipynb",
   "provenance": []
  },
  "kernelspec": {
   "display_name": "Python 3",
   "language": "python",
   "name": "python3"
  },
  "language_info": {
   "codemirror_mode": {
    "name": "ipython",
    "version": 3
   },
   "file_extension": ".py",
   "mimetype": "text/x-python",
   "name": "python",
   "nbconvert_exporter": "python",
   "pygments_lexer": "ipython3",
   "version": "3.7.6"
  }
 },
 "nbformat": 4,
 "nbformat_minor": 1
}
