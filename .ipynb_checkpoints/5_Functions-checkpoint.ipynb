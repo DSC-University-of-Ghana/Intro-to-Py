{
 "cells": [
  {
   "cell_type": "markdown",
   "metadata": {
    "colab_type": "text",
    "id": "view-in-github"
   },
   "source": [
    "<a href=\"https://colab.research.google.com/github/barbara99/unicorndevelopers_python/blob/main/5_Functions.ipynb\" target=\"_parent\"><img src=\"https://colab.research.google.com/assets/colab-badge.svg\" alt=\"Open In Colab\"/></a>"
   ]
  },
  {
   "cell_type": "markdown",
   "metadata": {
    "id": "2qdHbV6LKCdn"
   },
   "source": [
    "# 1. BUILT-IN FUNCTIONS"
   ]
  },
  {
   "cell_type": "code",
   "execution_count": 2,
   "metadata": {
    "id": "e027nLRtKclL"
   },
   "outputs": [],
   "source": [
    "# There are many built-in functions that you can leverage directly \n",
    "# Let's define 2 lists x and y\n",
    "x = [4, 5, 1, 2, 8, 5]\n",
    "y = list(range(1, 7))"
   ]
  },
  {
   "cell_type": "code",
   "execution_count": 4,
   "metadata": {
    "colab": {
     "base_uri": "https://localhost:8080/"
    },
    "id": "B_q1ds-xKcnQ",
    "outputId": "720f3392-0b8c-4351-8e26-9d8b3d2219d0"
   },
   "outputs": [
    {
     "data": {
      "text/plain": [
       "[4, 5, 1, 2, 8, 5]"
      ]
     },
     "execution_count": 4,
     "metadata": {
      "tags": []
     },
     "output_type": "execute_result"
    }
   ],
   "source": [
    "x"
   ]
  },
  {
   "cell_type": "code",
   "execution_count": 3,
   "metadata": {
    "colab": {
     "base_uri": "https://localhost:8080/"
    },
    "id": "wlYds_UIK3Uq",
    "outputId": "e386ce03-53fc-4143-83d5-5cf5b3aa660b"
   },
   "outputs": [
    {
     "data": {
      "text/plain": [
       "[1, 2, 3, 4, 5, 6]"
      ]
     },
     "execution_count": 3,
     "metadata": {
      "tags": []
     },
     "output_type": "execute_result"
    }
   ],
   "source": [
    "y"
   ]
  },
  {
   "cell_type": "code",
   "execution_count": 5,
   "metadata": {
    "colab": {
     "base_uri": "https://localhost:8080/"
    },
    "id": "sOb6YyohK3XA",
    "outputId": "37c53e66-1aa9-4e46-c7ed-613c658bfa81"
   },
   "outputs": [
    {
     "data": {
      "text/plain": [
       "6"
      ]
     },
     "execution_count": 5,
     "metadata": {
      "tags": []
     },
     "output_type": "execute_result"
    }
   ],
   "source": [
    "# Let's obtain the length of y\n",
    "len(y)"
   ]
  },
  {
   "cell_type": "code",
   "execution_count": 6,
   "metadata": {
    "colab": {
     "base_uri": "https://localhost:8080/"
    },
    "id": "E2d-scjBK3f_",
    "outputId": "536c2414-91dd-4263-e682-fde4bf558e20"
   },
   "outputs": [
    {
     "data": {
      "text/plain": [
       "1"
      ]
     },
     "execution_count": 6,
     "metadata": {
      "tags": []
     },
     "output_type": "execute_result"
    }
   ],
   "source": [
    "# Let's obtain the minimum value \n",
    "min(x)"
   ]
  },
  {
   "cell_type": "code",
   "execution_count": 7,
   "metadata": {
    "colab": {
     "base_uri": "https://localhost:8080/"
    },
    "id": "MPcUuoY6K3id",
    "outputId": "164eb60a-410c-45ab-93c3-0c185b74e401"
   },
   "outputs": [
    {
     "data": {
      "text/plain": [
       "8"
      ]
     },
     "execution_count": 7,
     "metadata": {
      "tags": []
     },
     "output_type": "execute_result"
    }
   ],
   "source": [
    "# Let's obtain the maximum value\n",
    "max(x)"
   ]
  },
  {
   "cell_type": "code",
   "execution_count": 8,
   "metadata": {
    "id": "oo4EvfwgK3nQ"
   },
   "outputs": [],
   "source": [
    "# Let's create a tuple out of the list\n",
    "z = tuple(x)"
   ]
  },
  {
   "cell_type": "code",
   "execution_count": 9,
   "metadata": {
    "colab": {
     "base_uri": "https://localhost:8080/"
    },
    "id": "gbcSW9n5Lrf0",
    "outputId": "b2c95288-ba0e-47f9-9263-206033983c8e"
   },
   "outputs": [
    {
     "data": {
      "text/plain": [
       "(4, 5, 1, 2, 8, 5)"
      ]
     },
     "execution_count": 9,
     "metadata": {
      "tags": []
     },
     "output_type": "execute_result"
    }
   ],
   "source": [
    "z"
   ]
  },
  {
   "cell_type": "code",
   "execution_count": 10,
   "metadata": {
    "colab": {
     "base_uri": "https://localhost:8080/"
    },
    "id": "S-BLWy_AK3lL",
    "outputId": "40592eef-e10e-425c-a616-176cbd7bef8f"
   },
   "outputs": [
    {
     "data": {
      "text/plain": [
       "tuple"
      ]
     },
     "execution_count": 10,
     "metadata": {
      "tags": []
     },
     "output_type": "execute_result"
    }
   ],
   "source": [
    "type(z)"
   ]
  },
  {
   "cell_type": "code",
   "execution_count": 11,
   "metadata": {
    "colab": {
     "base_uri": "https://localhost:8080/"
    },
    "id": "NYVetBn-Kcpk",
    "outputId": "edf62a1b-10ea-48bd-c160-7adae6645865"
   },
   "outputs": [
    {
     "name": "stdout",
     "output_type": "stream",
     "text": [
      "25\n"
     ]
    }
   ],
   "source": [
    "# Let's obtain the sum of elements in x\n",
    "print(sum(x))"
   ]
  },
  {
   "cell_type": "markdown",
   "metadata": {
    "id": "CvaYA-XocFOc"
   },
   "source": [
    "**MINI CHALLENGE #1:**\n",
    "- **Write a code that takes in 2 lists x = [-1 -4 -7] and y = [-3 7 4] and  calculates the absolute sum of all its elements |x+y|**\n"
   ]
  },
  {
   "cell_type": "code",
   "execution_count": 11,
   "metadata": {
    "id": "DMYqI7CBekNI"
   },
   "outputs": [],
   "source": []
  },
  {
   "cell_type": "markdown",
   "metadata": {
    "id": "AHrwK11xMArY"
   },
   "source": [
    "# 2. FUNCTIONS"
   ]
  },
  {
   "cell_type": "code",
   "execution_count": 13,
   "metadata": {
    "id": "LhhFvM60MGrX"
   },
   "outputs": [],
   "source": [
    "# Let's define a function named \"my_function\" that does not receive any arguments\n",
    "# The function simply prints out content and does not return anything\n",
    "def my_function():\n",
    "    print('Welcome to Python towards data science track!')"
   ]
  },
  {
   "cell_type": "code",
   "execution_count": 14,
   "metadata": {
    "colab": {
     "base_uri": "https://localhost:8080/"
    },
    "id": "-jJdkGlGMGwE",
    "outputId": "ebe4abdc-9887-4f4b-ad8e-f1a3f25e4e93"
   },
   "outputs": [
    {
     "name": "stdout",
     "output_type": "stream",
     "text": [
      "Welcome to Python towards data science track!\n"
     ]
    }
   ],
   "source": [
    "# Function call\n",
    "my_function()"
   ]
  },
  {
   "cell_type": "code",
   "execution_count": 15,
   "metadata": {
    "id": "OSVyOu91MGuW"
   },
   "outputs": [],
   "source": [
    "# Define a function that takes in argument x and return the squared value \n",
    "def squared(x):\n",
    "    return x ** 2"
   ]
  },
  {
   "cell_type": "code",
   "execution_count": 16,
   "metadata": {
    "colab": {
     "base_uri": "https://localhost:8080/"
    },
    "id": "NVPrMz2_MPz1",
    "outputId": "f83d164e-24c7-4f18-caa4-007124a3dc17"
   },
   "outputs": [
    {
     "data": {
      "text/plain": [
       "16"
      ]
     },
     "execution_count": 16,
     "metadata": {
      "tags": []
     },
     "output_type": "execute_result"
    }
   ],
   "source": [
    "# Call the function\n",
    "output = squared(4)\n",
    "output"
   ]
  },
  {
   "cell_type": "code",
   "execution_count": 18,
   "metadata": {
    "id": "6ET-hFiSMPxi"
   },
   "outputs": [],
   "source": [
    "# Define a function with default value \n",
    "def my_function(amount = 20000):\n",
    "    print(\"My total income is = {}\".format(amount))"
   ]
  },
  {
   "cell_type": "code",
   "execution_count": 19,
   "metadata": {
    "colab": {
     "base_uri": "https://localhost:8080/"
    },
    "id": "-tiaDshNM48J",
    "outputId": "01ff2493-c5d9-4316-beac-8ea5101a8d55"
   },
   "outputs": [
    {
     "name": "stdout",
     "output_type": "stream",
     "text": [
      "My total income is = 600000\n"
     ]
    }
   ],
   "source": [
    "# If you pass an argument to the function, it overwrites the default value \n",
    "my_function(600000)"
   ]
  },
  {
   "cell_type": "code",
   "execution_count": 20,
   "metadata": {
    "colab": {
     "base_uri": "https://localhost:8080/"
    },
    "id": "-cPR_Cg-M6nm",
    "outputId": "c40a621b-188e-4ee9-b310-64740f6f800d"
   },
   "outputs": [
    {
     "name": "stdout",
     "output_type": "stream",
     "text": [
      "My total income is = 20000\n"
     ]
    }
   ],
   "source": [
    "# If you don't pass an argument, the default value \"20000\" will be used instead\n",
    "my_function()"
   ]
  },
  {
   "cell_type": "markdown",
   "metadata": {
    "id": "DB1zlBEEfDlA"
   },
   "source": [
    "**MINI CHALLENGE #2:** \n",
    "- **Write a code that takes in two inputs (number of items bought and prices) from the user and calculate the total account balance**"
   ]
  },
  {
   "cell_type": "code",
   "execution_count": null,
   "metadata": {
    "id": "s7fbv5eApK97"
   },
   "outputs": [],
   "source": []
  },
  {
   "cell_type": "markdown",
   "metadata": {
    "id": "lBj4QkQEpLkX"
   },
   "source": [
    "# 3. LAMBDA EXPRESSIONS "
   ]
  },
  {
   "cell_type": "code",
   "execution_count": null,
   "metadata": {
    "id": "YtkjNLEypRTb"
   },
   "outputs": [],
   "source": [
    "# Lambda function is used to create a function without a name \n",
    "# Lambda functions are mainly used with filter() and map() [they will be discussed later on]. \n",
    "# Lambda function can receive any number of arguments, but can only have one expression."
   ]
  },
  {
   "cell_type": "code",
   "execution_count": 21,
   "metadata": {
    "id": "FV5-hEWdpRdd"
   },
   "outputs": [],
   "source": [
    "# let's see how to create a basic function that squares the input\n",
    "def my_function(x):\n",
    "    return x**2"
   ]
  },
  {
   "cell_type": "code",
   "execution_count": 22,
   "metadata": {
    "colab": {
     "base_uri": "https://localhost:8080/"
    },
    "id": "cQZDrvwCpRa3",
    "outputId": "f5fa332e-773c-4963-cdad-d8d11b8dffd4"
   },
   "outputs": [
    {
     "data": {
      "text/plain": [
       "9"
      ]
     },
     "execution_count": 22,
     "metadata": {
      "tags": []
     },
     "output_type": "execute_result"
    }
   ],
   "source": [
    "# Function call\n",
    "my_function(3)"
   ]
  },
  {
   "cell_type": "code",
   "execution_count": 25,
   "metadata": {
    "id": "r5u0-IOBpRZq"
   },
   "outputs": [],
   "source": [
    "# We can do the same task using Lambda expression\n",
    "# Note that there is no function name\n",
    "y = lambda x:x**2"
   ]
  },
  {
   "cell_type": "code",
   "execution_count": 26,
   "metadata": {
    "colab": {
     "base_uri": "https://localhost:8080/"
    },
    "id": "hLsuWg7apRW9",
    "outputId": "baa56f44-f6ea-4b81-81bc-52998c7bb0b1"
   },
   "outputs": [
    {
     "data": {
      "text/plain": [
       "9"
      ]
     },
     "execution_count": 26,
     "metadata": {
      "tags": []
     },
     "output_type": "execute_result"
    }
   ],
   "source": [
    "y(3)"
   ]
  },
  {
   "cell_type": "code",
   "execution_count": 27,
   "metadata": {
    "id": "OKcE7JHBuzTj"
   },
   "outputs": [],
   "source": [
    "# Note that lambda expression can take in more than one argument \n",
    "# there is only one expression that could be performed\n",
    "def summation(x, y, z):\n",
    "    return x+y+z"
   ]
  },
  {
   "cell_type": "code",
   "execution_count": 28,
   "metadata": {
    "colab": {
     "base_uri": "https://localhost:8080/"
    },
    "id": "VyEdRTwXuzQ4",
    "outputId": "b5f3bd5f-44bf-4c9a-a3c6-5f649f3f2d13"
   },
   "outputs": [
    {
     "data": {
      "text/plain": [
       "6"
      ]
     },
     "execution_count": 28,
     "metadata": {
      "tags": []
     },
     "output_type": "execute_result"
    }
   ],
   "source": [
    "result = summation(1, 2, 3)\n",
    "result"
   ]
  },
  {
   "cell_type": "code",
   "execution_count": 30,
   "metadata": {
    "id": "kAuNql-zuzPE"
   },
   "outputs": [],
   "source": [
    "result = lambda    x, y, z : x+y+z   "
   ]
  },
  {
   "cell_type": "code",
   "execution_count": null,
   "metadata": {
    "colab": {
     "base_uri": "https://localhost:8080/",
     "height": 34
    },
    "id": "8PfLE79Lvuvg",
    "outputId": "bc84189d-da94-4727-8032-973df56cb7d1"
   },
   "outputs": [
    {
     "data": {
      "text/plain": [
       "6"
      ]
     },
     "execution_count": 26,
     "metadata": {
      "tags": []
     },
     "output_type": "execute_result"
    }
   ],
   "source": [
    "result(1, 2, 3)"
   ]
  },
  {
   "cell_type": "markdown",
   "metadata": {
    "id": "KTRBKK97fQGG"
   },
   "source": [
    "**MINI CHALLENGE #3:**\n",
    "- **Repeat mini challenge #2 (Write a code that takes in two inputs from the user and calculates the total) using lambda expressions instead**"
   ]
  },
  {
   "cell_type": "code",
   "execution_count": null,
   "metadata": {
    "id": "jz5bvTOmuHhG"
   },
   "outputs": [],
   "source": []
  },
  {
   "cell_type": "markdown",
   "metadata": {
    "id": "S8pekOcjKF6H"
   },
   "source": [
    "# 4. MAP "
   ]
  },
  {
   "cell_type": "code",
   "execution_count": 32,
   "metadata": {
    "id": "-zx6IFX7KdKi"
   },
   "outputs": [],
   "source": [
    "# The map() function takes in a function and a list.\n",
    "# map() performs an operation on the entire list and return the results in a new list.\n",
    "# Define two lists a and b\n",
    "a = [1, 4, 5, 6, 9]\n",
    "b = [1, 7, 9, 12, 7]"
   ]
  },
  {
   "cell_type": "code",
   "execution_count": 33,
   "metadata": {
    "id": "l4AEJ33iih46"
   },
   "outputs": [],
   "source": [
    "# Let's define a function that adds two elements together\n",
    "def summation(a, b):\n",
    "    return a + b"
   ]
  },
  {
   "cell_type": "code",
   "execution_count": 34,
   "metadata": {
    "colab": {
     "base_uri": "https://localhost:8080/"
    },
    "id": "8ZEm6BjIKdQ7",
    "outputId": "3fe8a23c-c1d8-47d1-e73b-fef90ff766df"
   },
   "outputs": [
    {
     "data": {
      "text/plain": [
       "[2, 11, 14, 18, 16]"
      ]
     },
     "execution_count": 34,
     "metadata": {
      "tags": []
     },
     "output_type": "execute_result"
    }
   ],
   "source": [
    "# You can now use map() to apply a function to the entire list and generate a new list\n",
    "c = list(map(summation, a, b))\n",
    "c"
   ]
  },
  {
   "cell_type": "code",
   "execution_count": 35,
   "metadata": {
    "colab": {
     "base_uri": "https://localhost:8080/"
    },
    "id": "pc6LxQQFKdM2",
    "outputId": "0cecc87a-7b7e-4af5-e5d8-09e84c85f31b"
   },
   "outputs": [
    {
     "data": {
      "text/plain": [
       "[1, 4, 9, 16]"
      ]
     },
     "execution_count": 35,
     "metadata": {
      "tags": []
     },
     "output_type": "execute_result"
    }
   ],
   "source": [
    "# map could be used with Lambda as follows\n",
    "# lambda function is an anonymous function that take any number of arguments and can only have one expression\n",
    "input_list = [1, 2, 3, 4]\n",
    "\n",
    "out_list = list(map ( lambda x:x**2 , input_list))\n",
    "out_list"
   ]
  },
  {
   "cell_type": "markdown",
   "metadata": {
    "id": "Dj4Wcbr1gLo8"
   },
   "source": [
    "**MINI CHALLENGE #4:**\n",
    "- **Write a function that takes an argument and return its cubic value**\n",
    "- **Define a list of integers ranging from -10 to 10** \n",
    "- **Apply the function to the entire list and generate a new output list** \n"
   ]
  },
  {
   "cell_type": "code",
   "execution_count": null,
   "metadata": {
    "id": "pqXiuFVxvU18"
   },
   "outputs": [],
   "source": []
  },
  {
   "cell_type": "markdown",
   "metadata": {
    "id": "BtAxpyeGKGA1"
   },
   "source": [
    "# 5. FILTER\n"
   ]
  },
  {
   "cell_type": "code",
   "execution_count": 36,
   "metadata": {
    "id": "D5LVa00JKdz0"
   },
   "outputs": [],
   "source": [
    "# filter is used to create a list of elements for which a function returns \"True\".\n",
    "prices = [105, 5055, 40, 356, 923, 1443, 222, 62]"
   ]
  },
  {
   "cell_type": "code",
   "execution_count": 37,
   "metadata": {
    "colab": {
     "base_uri": "https://localhost:8080/"
    },
    "id": "cgQq4hlcKd4A",
    "outputId": "51fe388e-2d80-4db1-aa8e-dc69992f8585"
   },
   "outputs": [
    {
     "data": {
      "text/plain": [
       "[40, 356, 222, 62]"
      ]
     },
     "execution_count": 37,
     "metadata": {
      "tags": []
     },
     "output_type": "execute_result"
    }
   ],
   "source": [
    "# return only even numbers\n",
    "out = list(filter( lambda x: (x % 2 == 0) , prices  ))\n",
    "out"
   ]
  },
  {
   "cell_type": "code",
   "execution_count": 38,
   "metadata": {
    "colab": {
     "base_uri": "https://localhost:8080/"
    },
    "id": "shory4UpKd2Y",
    "outputId": "66a2b9ec-03b9-4a7e-c760-7799a58efcac"
   },
   "outputs": [
    {
     "data": {
      "text/plain": [
       "[105, 5055, 356, 923, 1443, 222]"
      ]
     },
     "execution_count": 38,
     "metadata": {
      "tags": []
     },
     "output_type": "execute_result"
    }
   ],
   "source": [
    "# Return prices that are greater than or equal 100\n",
    "prices = [105, 5055, 40, 356, 923, 1443, 222, 62]\n",
    "out = list(  filter(lambda x: (x>=100) , prices) )\n",
    "out"
   ]
  },
  {
   "cell_type": "code",
   "execution_count": 39,
   "metadata": {
    "colab": {
     "base_uri": "https://localhost:8080/"
    },
    "id": "uQi17-h_hlSf",
    "outputId": "50d1c72e-9778-4c01-caa1-fb989fb117c0"
   },
   "outputs": [
    {
     "data": {
      "text/plain": [
       "[222]"
      ]
     },
     "execution_count": 39,
     "metadata": {
      "tags": []
     },
     "output_type": "execute_result"
    }
   ],
   "source": [
    "# Return values between 200 and 250\n",
    "out = list(  filter(lambda x: (x>=200 and x<=250) , prices) )\n",
    "out"
   ]
  },
  {
   "cell_type": "markdown",
   "metadata": {
    "id": "JZIiCmyvh7EW"
   },
   "source": [
    "**MINI CHALLENGE #5:**\n",
    "- **Write a code from the user that takes in a range (upper and lower bounds) and returns a list of positive and even numbers only** \n"
   ]
  },
  {
   "cell_type": "code",
   "execution_count": null,
   "metadata": {
    "id": "4JDq7Y04ve0S"
   },
   "outputs": [],
   "source": []
  }
 ],
 "metadata": {
  "colab": {
   "collapsed_sections": [],
   "include_colab_link": true,
   "name": "5. Functions.ipynb",
   "provenance": []
  },
  "kernelspec": {
   "display_name": "Python 3",
   "language": "python",
   "name": "python3"
  },
  "language_info": {
   "codemirror_mode": {
    "name": "ipython",
    "version": 3
   },
   "file_extension": ".py",
   "mimetype": "text/x-python",
   "name": "python",
   "nbconvert_exporter": "python",
   "pygments_lexer": "ipython3",
   "version": "3.7.6"
  }
 },
 "nbformat": 4,
 "nbformat_minor": 1
}
